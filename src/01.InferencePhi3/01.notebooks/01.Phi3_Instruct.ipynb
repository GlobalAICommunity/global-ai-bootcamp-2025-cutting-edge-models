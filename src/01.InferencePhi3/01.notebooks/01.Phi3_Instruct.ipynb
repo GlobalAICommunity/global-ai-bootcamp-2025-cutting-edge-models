{
 "cells": [
  {
   "cell_type": "code",
   "execution_count": 9,
   "metadata": {
    "dotnet_interactive": {
     "language": "csharp"
    },
    "polyglot_notebook": {
     "kernelName": "csharp"
    }
   },
   "outputs": [],
   "source": [
    "# Import the onnxruntime_genai library, which is likely used for running generative AI models with ONNX Runtime\n",
    "import onnxruntime_genai as og\n",
    "\n",
    "# Import the argparse library to handle command-line arguments\n",
    "import argparse\n",
    "\n",
    "# Import the time library to work with time-related functions\n",
    "import time"
   ]
  },
  {
   "cell_type": "code",
   "execution_count": 10,
   "metadata": {},
   "outputs": [],
   "source": [
    "# Create an instance of the Model class from the onnxruntime_genai library\n",
    "# The model is loaded from the specified path, which points to a Phi-3-mini-128k-instruct-onnx model\n",
    "# The model is optimized for CPU and mobile devices with specific configurations (int4 precision, rtn block size 32, accuracy level 4)\n",
    "model = og.Model('../../Models/Phi-3-mini-128k-instruct-onnx/cpu_and_mobile/cpu-int4-rtn-block-32-acc-level-4')\n"
   ]
  },
  {
   "cell_type": "code",
   "execution_count": 11,
   "metadata": {},
   "outputs": [],
   "source": [
    "# Create an instance of the Tokenizer class from the onnxruntime_genai library\n",
    "# The tokenizer is initialized with the previously loaded model\n",
    "tokenizer = og.Tokenizer(model)\n",
    "\n",
    "# Create a stream for tokenizing input data using the tokenizer instance\n",
    "tokenizer_stream = tokenizer.create_stream()"
   ]
  },
  {
   "cell_type": "code",
   "execution_count": 12,
   "metadata": {},
   "outputs": [],
   "source": [
    "# Define a dictionary named search_options to store configuration settings for the model's search behavior\n",
    "search_options = {\n",
    "    # Set the maximum length of the generated output to 1024 tokens\n",
    "    \"max_length\": 1024,\n",
    "    \n",
    "    # Set the temperature parameter to 0.6, which controls the randomness of the output\n",
    "    # Lower values make the output more deterministic, while higher values make it more random\n",
    "    \"temperature\": 0.6\n",
    "}"
   ]
  },
  {
   "cell_type": "code",
   "execution_count": 13,
   "metadata": {},
   "outputs": [],
   "source": [
    "# Create an instance of the GeneratorParams class from the onnxruntime_genai library\n",
    "# The parameters are initialized with the previously loaded model\n",
    "params = og.GeneratorParams(model)\n",
    "\n",
    "# Optionally, enable the use of CUDA graphs for optimized performance with a maximum batch size of 1\n",
    "# This line is currently commented out\n",
    "# params.try_use_cuda_graph_with_max_batch_size(1)\n",
    "\n",
    "# Set the search options for the generator parameters using the previously defined search_options dictionary\n",
    "params.set_search_options(**search_options)"
   ]
  },
  {
   "cell_type": "code",
   "execution_count": 14,
   "metadata": {},
   "outputs": [],
   "source": [
    "# Define a prompt string that sets up a conversation between the user and the AI assistant\n",
    "# The prompt includes special tokens to indicate the roles of the system, user, and assistant\n",
    "prompt = \"<|system|>You are a helpful AI assistant.<|end|><|user|>Can you introduce yourself?<|end|><|assistant|>\"\n",
    "\n",
    "# Encode the prompt string into input tokens using the tokenizer\n",
    "input_tokens = tokenizer.encode(prompt)\n",
    "\n",
    "# Set the input_ids attribute of the params object to the encoded input tokens\n",
    "params.input_ids = input_tokens\n"
   ]
  },
  {
   "cell_type": "code",
   "execution_count": 15,
   "metadata": {},
   "outputs": [],
   "source": [
    "# Create an instance of the Generator class from the onnxruntime_genai library\n",
    "# The generator is initialized with the previously loaded model and the configured parameters\n",
    "generator = og.Generator(model, params)"
   ]
  },
  {
   "cell_type": "code",
   "execution_count": 16,
   "metadata": {},
   "outputs": [
    {
     "name": "stdout",
     "output_type": "stream",
     "text": [
      " Hello! I'm Phi, an AI developed by Microsoft, designed to assist users by providing accurate information, answering questions, and helping with a variety of tasks. I'm committed to ensuring your experience is as helpful and efficient as possible."
     ]
    }
   ],
   "source": [
    "# Loop until the generator has finished generating tokens\n",
    "while not generator.is_done():\n",
    "    # Compute the logits (probabilities) for the next token\n",
    "    generator.compute_logits()\n",
    "    \n",
    "    # Generate the next token based on the computed logits\n",
    "    generator.generate_next_token()\n",
    "\n",
    "    # Retrieve the newly generated token\n",
    "    new_token = generator.get_next_tokens()[0]\n",
    "    \n",
    "    # Decode the new token into a readable string and print it\n",
    "    # The 'end' parameter ensures the output is printed on the same line\n",
    "    # The 'flush' parameter forces the output to be printed immediately\n",
    "    print(tokenizer_stream.decode(new_token), end='', flush=True)\n"
   ]
  }
 ],
 "metadata": {
  "kernelspec": {
   "display_name": "base",
   "language": "python",
   "name": "python3"
  },
  "language_info": {
   "codemirror_mode": {
    "name": "ipython",
    "version": 3
   },
   "file_extension": ".py",
   "mimetype": "text/x-python",
   "name": "python",
   "nbconvert_exporter": "python",
   "pygments_lexer": "ipython3",
   "version": "3.12.4"
  },
  "polyglot_notebook": {
   "kernelInfo": {
    "defaultKernelName": "csharp",
    "items": [
     {
      "aliases": [],
      "name": "csharp"
     }
    ]
   }
  }
 },
 "nbformat": 4,
 "nbformat_minor": 4
}
