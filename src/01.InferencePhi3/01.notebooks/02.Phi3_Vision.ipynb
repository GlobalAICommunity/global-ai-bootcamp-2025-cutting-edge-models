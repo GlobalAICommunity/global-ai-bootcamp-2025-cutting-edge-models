{
 "cells": [
  {
   "cell_type": "code",
   "execution_count": 1,
   "metadata": {},
   "outputs": [],
   "source": [
    "# Import the onnxruntime_genai module and alias it as og\n",
    "# This module is used for running ONNX models with generative AI capabilities\n",
    "import onnxruntime_genai as og\n"
   ]
  },
  {
   "cell_type": "code",
   "execution_count": 2,
   "metadata": {},
   "outputs": [],
   "source": [
    "# Define the path to the model file\n",
    "# This path points to a specific ONNX model file stored in a directory\n",
    "model_path = '../../Models/Phi-3.5-vision-instruct-onnx/cpu_and_mobile/cpu-int4-rtn-block-32-acc-level-4'\n",
    "            #   ../../Models/Phi-3-mini-128k-instruct-onnx/cpu_and_mobile/cpu-int4-rtn-block-32/genai_config.json\n",
    "# Define the path to the image file\n",
    "# This path points to an image file that will be used for demonstration or testing\n",
    "img_path = './imgs/demo.png'"
   ]
  },
  {
   "cell_type": "code",
   "execution_count": 3,
   "metadata": {},
   "outputs": [],
   "source": [
    "config =og.Config(model_path)\n",
    "config.clear_providers()\n",
    "# Create an instance of the Model class from the onnxruntime_genai module\n",
    "# This instance is initialized with the path to the model file\n",
    "model = og.Model(config)\n",
    "\n",
    "# # Create a multimodal processor using the model instance\n",
    "# # This processor will handle different types of input data (e.g., text, images)\n",
    "# processor = model.create_multimodal_processor()\n",
    "\n",
    "processor = model.create_multimodal_processor()\n",
    "tokenizer_stream = processor.create_stream()\n"
   ]
  },
  {
   "cell_type": "code",
   "execution_count": 4,
   "metadata": {},
   "outputs": [],
   "source": [
    "# Define a string variable containing the text prompt\n",
    "# This prompt instructs to create Python code for an image and save it using matplotlib (plt)\n",
    "text = \"Please create Python code for image, and use plt to save the new picture under imgs/ and name it phi-3-vision.jpg.\""
   ]
  },
  {
   "cell_type": "code",
   "execution_count": 5,
   "metadata": {},
   "outputs": [],
   "source": [
    "# Initialize a string variable for the prompt with a user tag\n",
    "prompt = \"<|user|>\\n\"\n",
    "\n",
    "# Append an image tag to the prompt\n",
    "prompt += \"<|image_1|>\\n\"\n",
    "\n",
    "# Append the text prompt to the prompt string, followed by an end tag\n",
    "prompt += f\"{text}<|end|>\\n\"\n",
    "\n",
    "# Append an assistant tag to the prompt, indicating the start of the assistant's response\n",
    "prompt += \"<|assistant|>\\n\""
   ]
  },
  {
   "cell_type": "code",
   "execution_count": 6,
   "metadata": {},
   "outputs": [],
   "source": [
    "# Open the image file using the Images class from the onnxruntime_genai module\n",
    "# The img_path variable contains the path to the image file\n",
    "image = og.Images.open(img_path)"
   ]
  },
  {
   "cell_type": "code",
   "execution_count": 7,
   "metadata": {},
   "outputs": [],
   "source": [
    "# Process the prompt and the image using the multimodal processor\n",
    "# The processor function takes the prompt and the image as inputs\n",
    "# The result is stored in the inputs variable, which will be used for further processing or model inference\n",
    "inputs = processor(prompt, images=image)"
   ]
  },
  {
   "cell_type": "code",
   "execution_count": 8,
   "metadata": {},
   "outputs": [],
   "source": [
    "# Create an instance of the GeneratorParams class from the onnxruntime_genai module\n",
    "# This instance is initialized with the model object\n",
    "params = og.GeneratorParams(model)\n",
    "\n",
    "# Set the inputs for the generator parameters using the processed inputs\n",
    "params.set_inputs(inputs)\n",
    "\n",
    "# Set the search options for the generator parameters\n",
    "# The max_length parameter specifies the maximum length of the generated output\n",
    "params.set_search_options(max_length=3072)"
   ]
  },
  {
   "cell_type": "code",
   "execution_count": 9,
   "metadata": {},
   "outputs": [],
   "source": [
    "# Create an instance of the Generator class from the onnxruntime_genai module\n",
    "# This instance is initialized with the model and the generator parameters\n",
    "generator = og.Generator(model, params)"
   ]
  },
  {
   "cell_type": "code",
   "execution_count": 10,
   "metadata": {},
   "outputs": [],
   "source": [
    "# Initialize an empty string variable to store the generated code\n",
    "code = ''"
   ]
  },
  {
   "cell_type": "code",
   "execution_count": 11,
   "metadata": {},
   "outputs": [
    {
     "name": "stdout",
     "output_type": "stream",
     "text": [
      "```python\n",
      "import matplotlib.pyplot as plt\n",
      "\n",
      "# Data to plot\n",
      "subjects = ['physics', 'chemistry', 'english', 'maths']\n",
      "marks = [85, 55, 45, 100]\n",
      "\n",
      "# Create a pie chart\n",
      "fig, ax = plt.subplots()\n",
      "ax.pie(marks, labels=subjects, autopct='%1.1f%%', startangle=140, colors=['blue', 'cyan', 'yellow', 'magenta'])\n",
      "\n",
      "# Set the title of the pie chart\n",
      "ax.set_title('Marks obtained in an exam')\n",
      "\n",
      "# Save the figure\n",
      "plt.savefig('imgs/phi-3-vision.jpg', format='jpg')\n",
      "\n",
      "# Note: plt.show() is not used as per the instruction\n",
      "```\n",
      "\n",
      "This code will generate a pie chart with the given data and save it as 'imgs/phi-3-vision.jpg' without displaying it."
     ]
    }
   ],
   "source": [
    "# Loop until the generator has finished generating tokens\n",
    "while not generator.is_done():\n",
    "    # Compute the logits (probabilities) for the next token\n",
    "    generator.compute_logits()\n",
    "    \n",
    "    # Generate the next token based on the computed logits\n",
    "    generator.generate_next_token()\n",
    "\n",
    "    # Retrieve the newly generated token\n",
    "    new_token = generator.get_next_tokens()[0]\n",
    "    \n",
    "    # Decode the new token and append it to the code string\n",
    "    code += tokenizer_stream.decode(new_token)\n",
    "    \n",
    "    # Print the decoded token to the console without a newline, and flush the output buffer\n",
    "    print(tokenizer_stream.decode(new_token), end='', flush=True)\n",
    "        "
   ]
  },
  {
   "cell_type": "code",
   "execution_count": 12,
   "metadata": {},
   "outputs": [
    {
     "data": {
      "text/plain": [
       "\"```python\\nimport matplotlib.pyplot as plt\\n\\n# Data to plot\\nsubjects = ['physics', 'chemistry', 'english', 'maths']\\nmarks = [85, 55, 45, 100]\\n\\n# Create a pie chart\\nfig, ax = plt.subplots()\\nax.pie(marks, labels=subjects, autopct='%1.1f%%', startangle=140, colors=['blue', 'cyan', 'yellow', 'magenta'])\\n\\n# Set the title of the pie chart\\nax.set_title('Marks obtained in an exam')\\n\\n# Save the figure\\nplt.savefig('imgs/phi-3-vision.jpg', format='jpg')\\n\\n# Note: plt.show() is not used as per the instruction\\n```\\n\\nThis code will generate a pie chart with the given data and save it as 'imgs/phi-3-vision.jpg' without displaying it.\""
      ]
     },
     "execution_count": 12,
     "metadata": {},
     "output_type": "execute_result"
    }
   ],
   "source": [
    "# The variable 'code' contains the generated code as a string\n",
    "code\n"
   ]
  },
  {
   "cell_type": "code",
   "execution_count": 13,
   "metadata": {},
   "outputs": [],
   "source": [
    "# Find the starting index of the Python code block within the generated code\n",
    "# The index function locates the substring '```python' and adds 9 to skip past it\n",
    "begin = code.index('```python') + 9\n",
    "\n",
    "# Slice the code string from the calculated starting index to the end\n",
    "# This removes the initial part of the string up to and including '```python'\n",
    "code = code[begin:]\n"
   ]
  },
  {
   "cell_type": "code",
   "execution_count": 14,
   "metadata": {},
   "outputs": [],
   "source": [
    "# Find the ending index of the Python code block within the generated code\n",
    "# The index function locates the substring '```' which marks the end of the code block\n",
    "end = code.index('```')\n"
   ]
  },
  {
   "cell_type": "code",
   "execution_count": 15,
   "metadata": {},
   "outputs": [],
   "source": [
    "# Slice the code string to include only the part up to the ending index\n",
    "# This removes the trailing part of the string after the end of the code block\n",
    "code = code[:end]\n"
   ]
  },
  {
   "cell_type": "code",
   "execution_count": 16,
   "metadata": {},
   "outputs": [
    {
     "data": {
      "text/plain": [
       "\"\\nimport matplotlib.pyplot as plt\\n\\n# Data to plot\\nsubjects = ['physics', 'chemistry', 'english', 'maths']\\nmarks = [85, 55, 45, 100]\\n\\n# Create a pie chart\\nfig, ax = plt.subplots()\\nax.pie(marks, labels=subjects, autopct='%1.1f%%', startangle=140, colors=['blue', 'cyan', 'yellow', 'magenta'])\\n\\n# Set the title of the pie chart\\nax.set_title('Marks obtained in an exam')\\n\\n# Save the figure\\nplt.savefig('imgs/phi-3-vision.jpg', format='jpg')\\n\\n# Note: plt.show() is not used as per the instruction\\n\""
      ]
     },
     "execution_count": 16,
     "metadata": {},
     "output_type": "execute_result"
    }
   ],
   "source": [
    "# The variable 'code' contains the generated code as a string\n",
    "code\n"
   ]
  },
  {
   "cell_type": "code",
   "execution_count": 17,
   "metadata": {},
   "outputs": [],
   "source": [
    "# Import the subprocess module\n",
    "# This module allows you to spawn new processes, connect to their input/output/error pipes, and obtain their return codes\n",
    "import subprocess"
   ]
  },
  {
   "cell_type": "code",
   "execution_count": 18,
   "metadata": {},
   "outputs": [],
   "source": [
    "# Run the generated Python code as a subprocess\n",
    "# The subprocess.run function executes the command specified in the list\n",
    "# The command runs the Python interpreter with the '-c' option to execute the code string\n",
    "# The capture_output parameter is set to True to capture the standard output and error streams\n",
    "result = subprocess.run([\"python\", \"-c\", code], capture_output=True)\n"
   ]
  },
  {
   "cell_type": "code",
   "execution_count": 19,
   "metadata": {},
   "outputs": [],
   "source": [
    "# Import the Image and display functions from the IPython.display module\n",
    "# The Image function is used to display an image given its file path or URL\n",
    "# The display function is used to display the image in the output cell of a Jupyter notebook\n",
    "from IPython.display import Image, display"
   ]
  },
  {
   "cell_type": "code",
   "execution_count": 20,
   "metadata": {},
   "outputs": [
    {
     "data": {
      "image/jpeg": "[encoded data removed]",
      "text/plain": [
       "<IPython.core.display.Image object>"
      ]
     },
     "metadata": {},
     "output_type": "display_data"
    }
   ],
   "source": [
    "# Display an image in a Jupyter notebook cell\n",
    "# The Image function creates an image object from a file\n",
    "# The filename parameter specifies the path to the image file\n",
    "display(\n",
    "    Image(filename='./imgs/phi-3-vision.jpg')\n",
    ")\n"
   ]
  },
  {
   "cell_type": "code",
   "execution_count": 21,
   "metadata": {},
   "outputs": [
    {
     "data": {
      "image/png": "[encoded data removed]",
      "text/plain": [
       "<IPython.core.display.Image object>"
      ]
     },
     "metadata": {},
     "output_type": "display_data"
    }
   ],
   "source": [
    "# Display an image in a Jupyter notebook cell\n",
    "# The Image function creates an image object from a file\n",
    "# The filename parameter specifies the path to the image file\n",
    "display(\n",
    "    Image(filename='./imgs/demo.png'))"
   ]
  }
 ],
 "metadata": {
  "kernelspec": {
   "display_name": "base",
   "language": "python",
   "name": "python3"
  },
  "language_info": {
   "codemirror_mode": {
    "name": "ipython",
    "version": 3
   },
   "file_extension": ".py",
   "mimetype": "text/x-python",
   "name": "python",
   "nbconvert_exporter": "python",
   "pygments_lexer": "ipython3",
   "version": "3.12.8"
  }
 },
 "nbformat": 4,
 "nbformat_minor": 2
}
