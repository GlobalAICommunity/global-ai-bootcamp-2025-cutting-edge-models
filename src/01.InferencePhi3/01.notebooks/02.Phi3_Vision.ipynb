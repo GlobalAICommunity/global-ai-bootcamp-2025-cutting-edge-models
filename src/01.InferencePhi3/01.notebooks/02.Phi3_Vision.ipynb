{
 "cells": [
  {
   "cell_type": "code",
   "execution_count": 1,
   "metadata": {},
   "outputs": [],
   "source": [
    "import onnxruntime_genai as og"
   ]
  },
  {
   "cell_type": "code",
   "execution_count": 2,
   "metadata": {},
   "outputs": [],
   "source": [
    "model_path = '../../Models/Phi-3-vision-128k-instruct-onnx-cpu/cpu-int4-rtn-block-32-acc-level-4'\n",
    "img_path = './imgs/demo.png'"
   ]
  },
  {
   "cell_type": "code",
   "execution_count": 3,
   "metadata": {},
   "outputs": [],
   "source": [
    "model = og.Model(model_path)\n",
    "processor = model.create_multimodal_processor()\n",
    "tokenizer_stream = processor.create_stream()"
   ]
  },
  {
   "cell_type": "code",
   "execution_count": 4,
   "metadata": {},
   "outputs": [],
   "source": [
    "text = \"Please create Python code for image\""
   ]
  },
  {
   "cell_type": "code",
   "execution_count": 5,
   "metadata": {},
   "outputs": [],
   "source": [
    "prompt = \"<|user|>\\n\"\n",
    "prompt += \"<|image_1|>\\n\"\n",
    "prompt += f\"{text}<|end|>\\n<|assistant|>\\n\""
   ]
  },
  {
   "cell_type": "code",
   "execution_count": 6,
   "metadata": {},
   "outputs": [],
   "source": [
    "image = og.Images.open(img_path)"
   ]
  },
  {
   "cell_type": "code",
   "execution_count": 7,
   "metadata": {},
   "outputs": [],
   "source": [
    "inputs = processor(prompt, images=image)"
   ]
  },
  {
   "cell_type": "code",
   "execution_count": 8,
   "metadata": {},
   "outputs": [],
   "source": [
    "params = og.GeneratorParams(model)\n",
    "params.set_inputs(inputs)\n",
    "params.set_search_options(max_length=3072)"
   ]
  },
  {
   "cell_type": "code",
   "execution_count": 9,
   "metadata": {},
   "outputs": [],
   "source": [
    "generator = og.Generator(model, params)"
   ]
  },
  {
   "cell_type": "code",
   "execution_count": 10,
   "metadata": {},
   "outputs": [
    {
     "name": "stdout",
     "output_type": "stream",
     "text": [
      "```python\n",
      "import matplotlib.pyplot as plt\n",
      "\n",
      "# Data to plot\n",
      "labels = 'physics', 'chemistry', 'english', 'maths'\n",
      "sizes = [28.6, 20.6, 15.9, 34.9]\n",
      "colors = ['red', 'yellow', 'cyan', 'magenta']\n",
      "\n",
      "# Plot\n",
      "fig1, ax1 = plt.subplots()\n",
      "ax1.pie(sizes, labels=labels, autopct='%1.1f%%', startangle=140, colors=colors)\n",
      "ax1.axis('equal')  # Equal aspect ratio ensures that pie is drawn as a circle.\n",
      "\n",
      "plt.title('Marks obtained in an exam')\n",
      "plt.savefig('1-29400.jpg')\n",
      "```\n",
      "\n",
      "The chart is a pie chart representing the distribution of marks obtained in an exam across four subjects: physics, chemistry, English, and mathematics. The chart is saved as '1-29400.jpg'.</s>"
     ]
    }
   ],
   "source": [
    "while not generator.is_done():\n",
    "        generator.compute_logits()\n",
    "        generator.generate_next_token()\n",
    "\n",
    "        new_token = generator.get_next_tokens()[0]\n",
    "        print(tokenizer_stream.decode(new_token), end='', flush=True)\n",
    "        "
   ]
  },
  {
   "cell_type": "markdown",
   "metadata": {},
   "source": []
  }
 ],
 "metadata": {
  "kernelspec": {
   "display_name": "base",
   "language": "python",
   "name": "python3"
  },
  "language_info": {
   "codemirror_mode": {
    "name": "ipython",
    "version": 3
   },
   "file_extension": ".py",
   "mimetype": "text/x-python",
   "name": "python",
   "nbconvert_exporter": "python",
   "pygments_lexer": "ipython3",
   "version": "3.10.14"
  }
 },
 "nbformat": 4,
 "nbformat_minor": 2
}
