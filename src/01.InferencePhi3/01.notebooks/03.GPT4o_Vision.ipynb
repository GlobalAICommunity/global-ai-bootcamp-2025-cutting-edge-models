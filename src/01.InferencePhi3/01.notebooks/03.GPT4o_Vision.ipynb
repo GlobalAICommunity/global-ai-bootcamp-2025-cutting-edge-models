{
 "cells": [
  {
   "cell_type": "code",
   "execution_count": 8,
   "metadata": {},
   "outputs": [
    {
     "name": "stdout",
     "output_type": "stream",
     "text": [
      "Collecting openai\n",
      "  Downloading openai-1.37.1-py3-none-any.whl.metadata (22 kB)\n",
      "Requirement already satisfied: anyio<5,>=3.5.0 in /opt/conda/lib/python3.12/site-packages (from openai) (4.4.0)\n",
      "Requirement already satisfied: distro<2,>=1.7.0 in /opt/conda/lib/python3.12/site-packages (from openai) (1.9.0)\n",
      "Requirement already satisfied: httpx<1,>=0.23.0 in /opt/conda/lib/python3.12/site-packages (from openai) (0.27.0)\n",
      "Collecting pydantic<3,>=1.9.0 (from openai)\n",
      "  Downloading pydantic-2.8.2-py3-none-any.whl.metadata (125 kB)\n",
      "\u001b[2K     \u001b[90m━━━━━━━━━━━━━━━━━━━━━━━━━━━━━━━━━━━━━━━\u001b[0m \u001b[32m125.2/125.2 kB\u001b[0m \u001b[31m4.3 MB/s\u001b[0m eta \u001b[36m0:00:00\u001b[0m\n",
      "\u001b[?25hRequirement already satisfied: sniffio in /opt/conda/lib/python3.12/site-packages (from openai) (1.3.1)\n",
      "Requirement already satisfied: tqdm>4 in /opt/conda/lib/python3.12/site-packages (from openai) (4.66.4)\n",
      "Requirement already satisfied: typing-extensions<5,>=4.7 in /opt/conda/lib/python3.12/site-packages (from openai) (4.12.2)\n",
      "Requirement already satisfied: idna>=2.8 in /opt/conda/lib/python3.12/site-packages (from anyio<5,>=3.5.0->openai) (3.7)\n",
      "Requirement already satisfied: certifi in /opt/conda/lib/python3.12/site-packages (from httpx<1,>=0.23.0->openai) (2024.7.4)\n",
      "Requirement already satisfied: httpcore==1.* in /opt/conda/lib/python3.12/site-packages (from httpx<1,>=0.23.0->openai) (1.0.5)\n",
      "Requirement already satisfied: h11<0.15,>=0.13 in /opt/conda/lib/python3.12/site-packages (from httpcore==1.*->httpx<1,>=0.23.0->openai) (0.14.0)\n",
      "Collecting annotated-types>=0.4.0 (from pydantic<3,>=1.9.0->openai)\n",
      "  Downloading annotated_types-0.7.0-py3-none-any.whl.metadata (15 kB)\n",
      "Collecting pydantic-core==2.20.1 (from pydantic<3,>=1.9.0->openai)\n",
      "  Downloading pydantic_core-2.20.1-cp312-cp312-manylinux_2_17_x86_64.manylinux2014_x86_64.whl.metadata (6.6 kB)\n",
      "Downloading openai-1.37.1-py3-none-any.whl (337 kB)\n",
      "\u001b[2K   \u001b[90m━━━━━━━━━━━━━━━━━━━━━━━━━━━━━━━━━━━━━━━━\u001b[0m \u001b[32m337.0/337.0 kB\u001b[0m \u001b[31m9.2 MB/s\u001b[0m eta \u001b[36m0:00:00\u001b[0mta \u001b[36m0:00:01\u001b[0m\n",
      "\u001b[?25hDownloading pydantic-2.8.2-py3-none-any.whl (423 kB)\n",
      "\u001b[2K   \u001b[90m━━━━━━━━━━━━━━━━━━━━━━━━━━━━━━━━━━━━━━━━\u001b[0m \u001b[32m423.9/423.9 kB\u001b[0m \u001b[31m11.5 MB/s\u001b[0m eta \u001b[36m0:00:00\u001b[0m00:01\u001b[0m\n",
      "\u001b[?25hDownloading pydantic_core-2.20.1-cp312-cp312-manylinux_2_17_x86_64.manylinux2014_x86_64.whl (2.1 MB)\n",
      "\u001b[2K   \u001b[90m━━━━━━━━━━━━━━━━━━━━━━━━━━━━━━━━━━━━━━━━\u001b[0m \u001b[32m2.1/2.1 MB\u001b[0m \u001b[31m32.8 MB/s\u001b[0m eta \u001b[36m0:00:00\u001b[0m:00:01\u001b[0m\n",
      "\u001b[?25hDownloading annotated_types-0.7.0-py3-none-any.whl (13 kB)\n",
      "Installing collected packages: pydantic-core, annotated-types, pydantic, openai\n",
      "Successfully installed annotated-types-0.7.0 openai-1.37.1 pydantic-2.8.2 pydantic-core-2.20.1\n"
     ]
    }
   ],
   "source": [
    "! pip install openai -U\n",
    "\n",
    "# ! pip install matplotlib"
   ]
  },
  {
   "cell_type": "code",
   "execution_count": 9,
   "metadata": {},
   "outputs": [],
   "source": [
    "api_base = 'Your Azure OpenAI Service Endpoint' # your endpoint should look like the following https://YOUR_RESOURCE_NAME.openai.azure.com/\n",
    "api_key=\"Your Azure OpenAI Service API Key\"\n",
    "deployment_name = 'Your Azure OpenAI Service Deployment Name'\n",
    "api_version = '2024-02-15-preview' # this might change in the future"
   ]
  },
  {
   "cell_type": "code",
   "execution_count": 10,
   "metadata": {},
   "outputs": [],
   "source": [
    "import base64\n",
    "from mimetypes import guess_type"
   ]
  },
  {
   "cell_type": "code",
   "execution_count": 11,
   "metadata": {},
   "outputs": [],
   "source": [
    "# Function to encode a local image into data URL \n",
    "def local_image_to_data_url(image_path):\n",
    "    # Guess the MIME type of the image based on the file extension\n",
    "    mime_type, _ = guess_type(image_path)\n",
    "    if mime_type is None:\n",
    "        mime_type = 'application/octet-stream'  # Default MIME type if none is found\n",
    "\n",
    "    # Read and encode the image file\n",
    "    with open(image_path, \"rb\") as image_file:\n",
    "        base64_encoded_data = base64.b64encode(image_file.read()).decode('utf-8')\n",
    "\n",
    "    # Construct the data URL\n",
    "    return f\"data:{mime_type};base64,{base64_encoded_data}\""
   ]
  },
  {
   "cell_type": "code",
   "execution_count": 12,
   "metadata": {},
   "outputs": [],
   "source": [
    "image_path = './imgs/demo.png'\n",
    "data_url = local_image_to_data_url(image_path)"
   ]
  },
  {
   "cell_type": "code",
   "execution_count": 13,
   "metadata": {},
   "outputs": [
    {
     "data": {
      "text/plain": [
       "'data:image/png;base64,iVBORw0KGgoAAAANSUhEUgAAAaoAAAGdCAYAAABD8DfjAAAABHNCSVQICAgIfAhkiAAAAAlwSFlzAAAPYQAAD2EBqD+naQAAADl0RVh0U29mdHdhcmUAbWF0cGxvdGxpYiB2ZXJzaW9uIDMuMC4wLCBodHRwOi8vbWF0cGxvdGxpYi5vcmcvqOYd8AAAIABJREFUeJzs3Xl8TNf/x/HXZF8lIiTWJLYIRSiKonZVdNFFUaSqtSuqiqpaqmor1X5L7bRKtfXT1q61tqi29i3WILYgZN/n/v64DJGERGbmzvJ5euQhuXPn3vedLJ855557j05RFAUhhBDCQjloHUAIIYR4GClUQgghLJoUKiGEEBZNCpUQQgiLJoVKCCGERZNCJYQQwqJJoRJCCGHRpFAJIYSwaFKohBBCWDQpVFZs8eLF6HQ6dDod27Zty/G4oihUrFgRnU5H06ZNjb5/nU7HgAEDjL7dgoiKikKn0zFt2rRHrrtr1y7Gjh3L7du3H3t/Y8eORafTPfbzC+PusS5evPih623bti3PnwkhrJEUKhvg7e3NggULcizfvn07Z86cwdvbW4NUlmfXrl2MGzeuUIWqV69e7N6924ipjK927drs3r2b2rVrax1FCKOQQmUDOnXqxM8//0x8fHy25QsWLKBBgwaUK1fOqPtLSUkx6vasSZkyZahfv77WMR6qSJEi1K9fnyJFimgdRQijkEJlAzp37gzA8uXLDcvi4uL4+eef6dmzZ67PGTduHE899RR+fn4UKVKE2rVrs2DBAh68R3FwcDDt27dn1apV1KpVCzc3N8aNG5frNhVFYdSoUTg7OzNv3jwA9Ho9n3zyCaGhobi7u+Pr60uNGjX44osvHnlcFy5c4I033qBEiRK4uroSFhbG9OnT0ev1OdbV6/VMnDiRcuXK4ebmRp06dfjjjz8Mj48dO5b3338fgJCQkBxdpj/88AOtW7emZMmSuLu7ExYWxogRI0hKSsq2n9y6/u6+Rhs2bKB27dq4u7tTpUoVFi5cmCPn1atX6d27N2XKlMHFxYWQkBDGjRtHZmZmtvUuX77Ma6+9hre3Nz4+PnTq1ImrV68+8jWD3Lv+IiIi8PLy4vTp0zz33HN4eXlRtmxZ3nvvPdLS0h65zfy+PoXdz919NWjQAE9PT7y8vGjTpg379+83PH7jxg3Kli1Lw4YNycjIMCw/duwYnp6edOvWzbBs8+bNvPDCC5QpUwY3NzcqVqxI7969uXHjRrZ93v2+Hjp0iFdffRUfHx/8/PwYOnQomZmZREZG8uyzz+Lt7U1wcDBTpkzJ17EII1GE1Vq0aJECKP/884/SrVs3pV69eobHZs+erXh6eirx8fFKtWrVlGeeeSbbcyMiIpQFCxYomzdvVjZv3qxMmDBBcXd3V8aNG5dtvaCgIKVkyZJK+fLllYULFypbt25V9u7dqyiKogBK//79FUVRlNTUVOX1119XvL29lfXr1xueP2nSJMXR0VH5+OOPlT/++EPZsGGDMnPmTGXs2LEPPbaYmBildOnSSvHixZU5c+YoGzZsUAYMGKAASt++fQ3rnTt3TgGUsmXLKo0aNVJ+/vln5ccff1Tq1q2rODs7K7t27VIURVEuXryoDBw4UAGUVatWKbt371Z2796txMXFKYqiKBMmTFBmzJihrF27Vtm2bZsyZ84cJSQkRGnWrFm2XB9//LHy4K9NUFCQUqZMGaVq1arK0qVLlY0bNyqvvvqqAijbt283rHflyhWlbNmySlBQkPLNN98ov//+uzJhwgTF1dVViYiIMKyXnJyshIWFKT4+PsqXX36pbNy4URk0aJBSrlw5BVAWLVr00Ndu69atCqBs3brVsKxHjx6Ki4uLEhYWpkybNk35/ffflTFjxig6nS7H9zw3+X19CrufiRMnKjqdTunZs6eyZs0aZdWqVUqDBg0UT09P5ejRo4b1/vzzT8XJyUkZMmSIoiiKkpSUpFStWlWpUqWKkpiYaFhv9uzZyqRJk5Rff/1V2b59u7JkyRKlZs2aSmhoqJKenm5Y7+73NTQ0VJkwYYKyefNmZfjw4QqgDBgwQKlSpYoya9YsZfPmzcqbb76pAMrPP//8yOMRxiGFyordX6ju/nE6cuSIoiiKUrduXcMfv9wK1f2ysrKUjIwMZfz48UqxYsUUvV5veCwoKEhxdHRUIiMjczzvbqG6efOm0qhRI6V06dLKgQMHsq3Tvn17JTw8vMDHNmLECAVQ/v7772zL+/btq+h0OkOeu4WqVKlSSkpKimG9+Ph4xc/PT2nZsqVh2dSpUxVAOXfu3EP3rdfrlYyMDGX79u0KoBw8eNDwWF6Fys3NTTl//rxhWUpKiuLn56f07t3bsKx3796Kl5dXtvUURVGmTZumAIY/xLNnz1YA5Zdffsm23ttvv12oQgUoK1euzLbuc889p4SGhj50ew962OtTmP1cuHBBcXJyUgYOHJhteUJCghIYGKi89tpr2ZZPnjxZAZT/+7//U3r06KG4u7srhw4demTu8+fP53h9735fp0+fnu054eHhhjc3d2VkZCjFixdXOnbs+NDjEcYjXX824plnnqFChQosXLiQw4cP888//+TZ7QewZcsWWrZsiY+PD46Ojjg7OzNmzBhu3rxJTExMtnVr1KhB5cqVc93OuXPnaNCgAXFxcezZs4eaNWtme7xevXocPHiQfv36sXHjxhzn0R6Wr2rVqtSrVy/b8oiICBRFYcuWLdmWd+zYETc3N8PX3t7edOjQgR07dpCVlfXI/Z09e5YuXboQGBhoeD2eeeYZAI4fP/7I54eHh2c7F+jm5kblypU5f/68YdmaNWto1qwZpUqVIjMz0/DRtm1bQB38ArB161a8vb15/vnns+2jS5cuj8zxMDqdjg4dOmRbVqNGjWwZ81KQ1+dx97Nx40YyMzPp3r17ttfHzc2NZ555Jscoxvfff5927drRuXNnlixZwpdffkn16tWzrRMTE0OfPn0oW7YsTk5OODs7ExQUlGtugPbt22f7OiwsDJ1OZ/geATg5OVGxYsV8vW7COJy0DiCMQ6fT8eabbzJr1ixSU1OpXLkyjRs3znXdvXv30rp1a5o2bcq8efMM50tWr17NxIkTcwyWKFmyZJ773bt3Lzdu3GDixImUKVMmx+MjR47E09OT7777jjlz5uDo6EiTJk2YPHkyderUyXO7N2/eJDg4OMfyUqVKGR6/X2BgYI51AwMDSU9PJzExER8fnzz3lZiYSOPGjXFzc+OTTz6hcuXKeHh4cPHiRTp27JivwSPFihXLsczV1TXbc69du8Zvv/2Gs7Nzrtu4e97k5s2bBAQE5Ho8heHh4ZGtmN/NmJqa+tDnFfT1edz9XLt2DYC6devm+riDQ/b31TqdjoiICNauXUtgYGC2c1Ognrds3bo1ly9f5qOPPqJ69ep4enqi1+upX79+rt9XPz+/bF+7uLjkejwuLi75ftMlCk8KlQ2JiIhgzJgxzJkzh4kTJ+a53ooVK3B2dmbNmjXZfgFXr16d6/oPu26oU6dOBAYG8uGHH6LX6xk9enS2x52cnBg6dChDhw7l9u3b/P7774waNYo2bdpw8eJFPDw8ct1usWLFuHLlSo7lly9fBsDf3z/b8twGGly9ehUXFxe8vLzyzA9q6+3y5cts27bN0EoACjWMPTf+/v7UqFEjz+/N3SJcrFgx9u7dm+Px/A6mMDZzvj4AP/30k6HV8zBXrlyhf//+hIeHc/ToUYYNG8asWbMMjx85coSDBw+yePFievToYVh++vRpo+YWpieFyoaULl2a999/nxMnTmT7xXyQTqfDyckJR0dHw7KUlBS+/fbbx9rv6NGj8fb2ZsiQISQlJTFp0qRc1/P19eWVV17h0qVLDB48mKioKKpWrZrrui1atGDSpEns27cv2/VAS5cuRafT0axZs2zrr1q1iqlTpxoKb0JCAr/99huNGzc2HKerq6vhWO93txDfffyub775Jr8vQb60b9+edevWUaFCBYoWLZrnes2aNWPlypX8+uuv2br/vv/+e6PmyS9zvT5t2rTBycmJM2fO8PLLLz903aysLDp37oxOp2P9+vUsW7aMYcOG0bRpUzp27GjW3ML0pFDZmM8+++yR67Rr147PP/+cLl268M4773Dz5k2mTZuW4xe6IN599128vLx45513SExMZNasWYZzFU888QR16tShePHinD9/npkzZxIUFESlSpXy3N6QIUNYunQp7dq1Y/z48QQFBbF27Vq+/vpr+vbtm+OcmaOjI61atWLo0KHo9XomT55MfHx8tqH0d89ffPHFF/To0QNnZ2dCQ0Np2LAhRYsWpU+fPnz88cc4OzuzbNkyDh48+NivR27Gjx/P5s2badiwIYMGDSI0NJTU1FSioqJYt24dc+bMoUyZMnTv3p0ZM2bQvXt3Jk6cSKVKlVi3bh0bN240ap78MtfrExwczPjx4/nwww85e/Yszz77LEWLFuXatWvs3bsXT09Pw/fz448/ZufOnWzatInAwEDee+89tm/fzltvvUWtWrUICQmhSpUqVKhQgREjRqAoCn5+fvz2229s3rzZqLmF6clgCjvUvHlzw6CLDh068OGHH/LKK68wYsSIQm33rbfeYtmyZcyZM4e33noLvV5Ps2bN2LFjB3369KFVq1aMHj2aFi1asH379jzP1QAUL16cXbt20bx5c0aOHEn79u3ZuHEjU6ZM4csvv8yx/oABA2jVqhWDBg2iS5cuZGZmsnbtWp5++mnDOk2bNmXkyJH89ttvNGrUiLp16/Lff/9RrFgx1q5di4eHB2+88QY9e/bEy8uLH374oVCvx4NKlizJv//+S+vWrZk6dSrPPvss3bp1Y+HChYSHhxtaWR4eHobBLiNGjOCVV14hOjqaFStWGDVPfpnr9QH1nOZPP/3EyZMn6dGjB23atGH48OGcP3+eJk2aAOq1UZMmTeKjjz6iRYsWhucuXryYIkWK0KlTJ9LT03F2dua3336jcuXK9O7dm86dOxMTE8Pvv/9u9NzCtHSK8sAVnkIIIYQFkRaVEEIIiyaFSgghhEWTQiWEEMKiSaESQghh0aRQCSGEsGhSqIQQQlg0KVRCCCEsmhQqIYQQFk0KlRBCCIsmhUoIIYRFk0IlhBDCokmhEkIIYdGkUAkhhLBoUqiEEEJYNClUQgghLJoUKiGEEBZNCpUQQgiLJoVKCCGERZNCJYQQwqJJoRJCCGHRpFAJIYSwaFKohBBCWDQpVEIIISyaFCohhBAWTQqVEEIIiyaFSgghhEWTQiWEEMKiSaESQghh0aRQCSGEsGhSqIQQQlg0KVRCCCEsmhQqIYQQFk0KlRBCCIsmhUoIIYRFk0IlhBDCokmhEkIIYdGkUAkhhLBoUqiEEEJYNClUQgghLJoUKiGEEBZNCpUQQtwnKioKnU7HgQMHtI4i7pBCJYSwWxEREbz44otaxxCPIIVKCCGERZNCJYSJ6TP1ZCZkkhmXScatDDJiM0i/kU769XTSr6WTdjWNtMtppF1KI/1aOvo0vdaRLVLTpk0ZOHAggwcPpmjRogQEBDB37lySkpJ488038fb2pkKFCqxfvx6ArKws3nrrLUJCQnB3dyc0NJQvvvjCsL2xY8eyZMkSfvnlF3Q6HTqdjm3bthkeP3v2LM2aNcPDw4OaNWuye/duw2Pnz5+nQ4cOFC1aFE9PT6pVq8a6devM9lrYGyetAwhhjdKvp5NyKoW0i2mkx6STEZNh+D/jZgaZtzLJvK1+ZCVmFXj7OlcdTr5OeX44+zvjFuyGe3l33Cu44+RjH7/KS5YsYfjw4ezdu5cffviBvn37snr1al566SVGjRrFjBkz6NatGxcuXMDZ2ZkyZcqwcuVK/P392bVrF++88w4lS5bktddeY9iwYRw/fpz4+HgWLVoEgJ+fH5cvXwbgww8/ZNq0aVSqVIkPP/yQzp07c/r0aZycnOjfvz/p6ens2LEDT09Pjh07hpeXl5YvjU3TKYqiaB1CCEuUEZtByqkUkk8lk3IqxfCRfCqZrLiCFx9TcirqhFt5tXC5hdz5v7wbHpU9cAty0zqeUTRt2pSsrCx27twJqC0mHx8fOnbsyNKlSwG4evUqJUuWZPfu3dSvXz/HNvr378+1a9f46aefAPUc1e3bt1m9erVhnaioKEJCQpg/fz5vvfUWAMeOHaNatWocP36cKlWqUKNGDV5++WU+/vhjUx+2QFpUQgCQdimN+D3xxP8dT/zeeJIOJ5EZm6l1rHzLvJVJ4n+JJP6XmOMxp2JOeD/prX7UUT/cylln8apRo4bhc0dHR4oVK0b16tUNywICAgCIiYkBYM6cOcyfP5/z58+TkpJCeno64eHhBd5XyZIlDdutUqUKgwYNom/fvmzatImWLVvy8ssvZ1tfGJcUKmF3spKySPg3QS1Kdz7SL6VrHctkMm9mcmvTLW5tumVY5lzc2VC4vJ70wqeBDy4BLhqmzB9nZ+dsX+t0umzLdDodAHq9npUrVzJkyBCmT59OgwYN8Pb2ZurUqfz9998F3tf92wXo1asXbdq0Ye3atWzatIlJkyYxffp0Bg4cWKjjE7mTQiVsXlZqFnHb47i5/ia3t94m6WgSWFbPndllXM8gdkMssRtiDcs8q3vi18aPoq2L4tPYB0c3Rw0TFt7OnTtp2LAh/fr1Myw7c+ZMtnVcXFzIynq8H4ayZcvSp08f+vTpw8iRI5k3b54UKhORQiVsUkpUCrHrYrm5Ti1O+mQZSfcoSYeTSDqcxMVpF3Fwd8CnsQ9+rf0o2qYoXk9Y30CBihUrsnTpUjZu3EhISAjffvst//zzDyEhIYZ1goOD2bhxI5GRkRQrVgwfH598bXvw4MG0bduWypUrc+vWLbZs2UJYWJipDsXuSaESNkGfoSduRxw3190kdn0syceTtY5k1fQp+nvdhcPApZQLRVsVxf9Ff4q1LYaDq+Vf2dKnTx8OHDhAp06d0Ol0dO7cmX79+hmGrwO8/fbbbNu2jTp16pCYmMjWrVsJDg5+5LazsrLo378/0dHRFClShGeffZYZM2aY8Gjsm4z6E1ZL0Svc3nqbq99e5caqG2Ql2Hl/npk4+Trh39GfEp1LULR5UXQOOq0jCRsnhUpYnaSjSVxdepWY72NIi07TOo5dcwl0ofhrxQnoEkCRp4poHUfYKClUwiqkX0vn2vfXuPbtNRL35xyCLbTnVsGNEq+XIKBrAJ5hnlrHETZECpWwWEqWwo3VN7gy/wqxm2PtfqSeNfFt6kvpQaXxf94fnaN0DYrCkUIlLE5mfCZX5l/h0peXSI1K1TqOKATXIFdK9ytNybdL4lzU+dFPECIXUqiExUiJSuHSF5e4suCKDIywMQ4eDgR0DaD0wNJ4Vbe+oe5CW1KohObidsVx8fOL3Fh9Q7r37IChW/AFfxkxKPJFCpXQhKIoXP/5OhenXSTh7wSt4wgNeIR5EDQ6iBKvl5CCJR5KCpUwu5sbbnJu1DkZvScA8KjiQdBHUrBE3qRQCbOJ2xXH2ZFnidsRp3UUYYE8qngQPCGYEq+U0DqKsDBSqITJJR5O5Nyoc9xcc1PrKMIKeNfxJuTTEPxa+WkdRVgIKVTCZFLOpnBuzDlilseA3BNWFJBvM18qTK+Ady1vraMIjUmhEkaXGZfJuY/OcXnOZZQM+fESheAIpfqUIuSTEJx95ToseyWFShjVtRXXODP0DOlXbHciQmF+ziWcqTClAgHdAwyTGAr7IYVKGEXKmRRO9juZbRZZIYzNp5EPlf5XCa8actGwPZFCJQpFn67nwpQLXJh4AX2qnIgSZuAIpQeUJmR8CE5FZEo9eyCFSjy2W9tucarvKZJPyCSFwvxcAl2oML0CAV0CtI4iTEwKlSiwjJsZnB56mmtLr2kdRQj8O/oTOjcU52Iy2MJWSaESBRK7KZYTESdksISwKC4lXaiyqAp+beTaK1skhUrkS1ZqFmeHn+XSV5dAfmKEJdJB6f6lKT+lPI7ujlqnEUYkhUo8UsbhM+x//SbJx+RclLB8HmEehC0LkwuFbYiD1gGEhfvyS5zrVqOUzw6tkwiRL8nHk9n31D7OTzqPopf34bZAWlQid7Gx0LMn/PILAEoRH/Z5LyThkpwDENbDp5EPYcvDcCvjpnUUUQjSohI57dsHtWoZihSALj6Omn5TwUFmNhTWI+7POP6r8x9xf8kd+62ZFCqR3fffQ6NGcOFCjoecDu8hvPFvGoQS4vFlXMvgQPMDXJ57Weso4jFJoRKqrCx4/33o2hVSUvJczefPryhV/awZgwlReEq6wsneJ4nsE4k+Q+6gYm3kHJWAW7fg9ddh06Z8ra6ULsuehG9Ii3c3cTAhjM+nkQ/Vfq6GSwkXraOIfJIWlb07ehTq1s13kQLQXbpIrWrfmDCUEKYT92cc/z35Hwn/JWgdReSTFCp7tn491K8PZ84U+Kluu38h9OldJgglhOmlRaexv9F+rn53VesoIh+kUNmrpUvh+echMfGxNxF4cBK+QdeNGEoI89Gn6jnR7QTnPz2vdRTxCFKo7NGUKRARAZmZhdqMLjGR6h6TcHCSIevCep378Bynh53WOoZ4CClU9kRR4L334IMP1M+NwPH4fsKf/sko2xJCK9HToznx1gmULBlbZolk1J+9yMiAN9+EZcuMvmlFp+NM+Gyi94cafdtCmJP/S/5UXV4VB1d5D29JpFDZg6QkePll2LjRZLtQAkvxd9pcUm95mmwfQpiDbwtfnlj9BE5eMnuwpZC3DbYuKQnatjVpkQLQXb1MrUr/M+k+hDCH23/c5mCLg2TEZmgdRdwhhcqWJSdDu3awc6dZdue6dz1hjbeZZV9CmFLC3gT2N95P2uU0raMIpOvPdqWkQPv2sGWLWXeruLtzuNRCYs8EmnW/QpiCRxUPwneG4+Ivd7HQkrSobFFqqnqNlJmLFIAuJYVqjhNxcJFuE2H9kk8kc6jNITLjCncphygcKVS2Ji0NXnwRfv9dswiOJ49Qq/4KzfYvhDEl7kvkcPvDZKXI9YJakUJlS9LT4aWXTD5wIj+8dywkqM5RrWMIYRRxf8ZxtONR9Oly53UtSKGyFYqi3m1i/XqtkxgER43Hw19u/ClsQ+yGWI53PS4XBWtACpWt+OADWL5c6xTZ6G7EEB40E5BfbGEbrv90nci3I5ExaOYlhcoWfPUVTJ2qdYpcufy3hWrPaHe+TAhju7roKmeGFnzGAfH4ZHi6tVu9Wr3rhN5y+84VFxeOBS/k+snSWkcRwmjKTy5PueHltI5hF6RFZc1274YuXSy6SAHo0tMJyxyPk3u61lGEMJqzI89yc91NrWPYBSlU1urkSejQQb2w1wo4nD1JrSeXah1DCOPRw7Eux0g6kaR1EpsnhcoaxcerF/TetK53c55/LqP8Uwe0jiGE0WTFZXHk+SNk3JYL3E1JCpW1URTo0QMiI7VO8ljKnpyAd2Cc1jGEMJqUUykc63RMhq2bkBQqazNpkjqAwkrpbsVSI3Aa6Cz7vJoQBXFr0y3ODJeRgKYio/6syaZN6pQdFj54Ij9in3mPQ9vbax1DCKOqsrgKgT3khszGJoXKWkRFwZNPQmys1kmMQnFy4kTl+Vw7FqR1FCGMRueqI3xbOD71fbSOYlOk688apKZCx442U6QAdJmZhCaOx8VL5vsRtkNJUzj26jEybsngCmOSQmUN+veH/fu1TmF0DhfOUqvGfK1jCGFUadFpnOx9UusYNkUKlaX7+WdYuFDrFCbjvusnKjbcq3UMIYzq+o/XubL4itYxbIaco7Jkly9DjRpWd71UQSlFinCgyCLiov20jiKE0Th6O1LnQB3cy7trHcXqSYvKUikKvPmmzRcpAF18PNV9J4ODTEwnbEdWQhbHux5Hn2n9o3S1JoXKUn31lToc3U44HdlLeONftI5h9X7hF97iLdrd+def/vzN3znWU1D4gA9oRjP+5M+HbjOWWD7jM17hFZ7lWYYznGiis63zP/7H8zxPJzqxhS3ZHtvKVkYxqvAHZ4Xi98RzfsJ5rWNYPSlUluj4cXV+KTvj8+fXlKohF00WRnGK8zZvM+fOv1rUYjSjOce5bOv9xE/o0D1yewoKH/ERV7jCJ3zCXOYSQADDGEYK6n0md7GLP/iDqUzlHd5hMpOJQ737SCKJLGAB7/Ku8Q/WSpyfeJ64XXI3lsKQQmVpMjKga1erudmsMemysqh0cxyuRezv2I2lIQ2pT33K3vnXi164484xjhnWOc1pfuRHhjP8kduLJppjHGMwg6lCFcpRjsEMJoUUQ8vpPOcJJ5xQQmlBCzzx5ArqQII5zOEFXiCAANMcsDXIguNvHCczPlPrJFZLCpWlmTDBJoei55fu0kVqVZ2jdQybkEUWW9hCKqlUoxoAqaTyCZ8wiEH48ejBKxmo1wO54GJY5ogjTjhxmMMAVKACkUSSQAKRRJJGGqUpzWEOc4pTdKSjCY7OuqSeS+X0kNNax7BaUqgsyYkTMHmy1ik057bnV0Ib/aV1DKt1lrO0pS2tac3nfM54xhNMMKCeS6pGNRrRKF/bKkc5AghgHvNIIIEMMvie74kllpuoA33qUY9WtKIPfZjMZEYwAjfcmMEMhjKUX/mV7nRnAANydEHak6sLr3J7+22tY1glGZ5uSZo1g23btE5hERRPTw4VX8StqOJaR7E6GWQQQwyJJLKDHaxlLTOZySUuMZvZzGMe7qhDppvRjAlMeGjhiiSSqUzlDGdwwIEneRKHO+9xP+OzXJ+zmMUkkcSzPMv7vM9CFrKb3fwf/8dc5hr/oK2Ee6g7dQ/WxcFV2ggFIYXKUixZAhERWqewKFlVwvnrzFT0GU5aR7Fq7/EepSiFK66sYlW2QRR69DjgQHWqM5OZD91OIolkkokvvvSlL6GEMpjBOda7wAVGMYp5zGMd6zjMYcYylhRSeI7nWMMaPPE0+nFai6CPgwgZG6J1DKsifwEswc2bMGyY1iksjuOJA4Q3+ZF9OzprHcWqKShkkMGbvEk72mV7rCc96Uc/GtLwkdvxwgtQB1ic5CQ96ZnrvqYznb70xR139OjJQr0+7u7/Cvb93vjCpAsEdA7AI9RD6yhWQ9qflmD4cLhxQ+sUFsmEJKzlAAAgAElEQVR75zzK1rLOSSK1MI95HOIQV7nKWc4yn/kc5CAtaYkffoQ88A8ggABKUtKwje50Zyc7DV9vYxsHOMBlLvMnfzKMYTzN09Slbo79r2ENvvjyNE8D8ARPsJ/9HOMYP/IjQQQZCp69UtIVTg08pXUMqyItKq3t3AmLFmmdwmLpFIXyl8dxw28eKbH2212UX7e4xad8SiyxeOJJecozmcnUoU6+t3GRiySRZPj6Jjf5mq+5xS2KUYzWtKYb3XI8L5ZYlrGMr/jKsCyMMF7lVUYyEl98GcGIwh2gjbi1+RbXV12neEc5B5sfco5KS1lZEB4OR45oncTipdVrw+698kdO2A7Xcq7UO1EPR3dHraNYPOn609L8+VKk8sl170bCGm/VOoYQRpN2IY0Ln17QOoZVkBaVVhISoFIluHZN6yRWQ3Fz40jpRdw8I1N9C9vg4ObAU2eewrWUq9ZRLJq0qLQyZYoUqQLSpaZS1eETHF1l9lRhG/Spes5/IjetfRRpUWnhyhWoWBGSk7VOYpUSm0Tw744eWscQwih0zjrqRdbDPUTmrcqLtKi0MH68FKlC8NqxmKA6cm5P2AYlQyFqbJTWMSyatKjM7fRpCAuDTLmTcmEo/sX5V7eApOveWkcRovAcoO6RuniGySUYuZEWlbl99JEUKSPQ3bhOeLkZYOd3ORA2Qg9RY6K0TmGxpFCZU2QkrFypdQqb4fzfVp5oYj+zIAvbdv3n6yTsT9A6hkWSQmVOU6aAXq91CptSbM/nFA+9pHUMIQpPgXOj7XcalIeRQmUu0dHw7bdap7A5uvR0wtLH4+SernUUIQotdl0scX/JtPUPkkJlLtOmqdPMC6NzOHeSWk8u0TqGEEZx/lO5rupBMurPHG7cgKAgGZJuYhfqf87ZPbW0jiFE4eig3ol6eFSWaUDukhaVOcyaJUXKDMqemIB3SZnqW1g5BaJnRWudwqJIoTK1hAT46qtHrycKTXf7FjVLTAWdDFgR1u3q4qtk3JZTBXdJoTK1RYvg1i2tU9gNp4O7qNFkjdYxhCgUfZKeqwuuah3DYsg5KlOrWhWOH9c6hV1RnJyIDJ3P1aNBWkcR4rG5Bbvx1Omn0DnqtI6iOWlRmdK2bVKkNKDLzKRy/FhcvFO1jiLEY0uNSuXG6htax7AIUqhMac4crRPYLYeLUdSqPk/rGEIUSvQXMqgCpFCZTkwM/N//aZ3CrrnvWkWlhn9rHUOIxxa3M46EfXJbJSlUprJwIaTL3RK0VurIp/iUval1DCEe26Wv5RZhUqhMQa+HuXO1TiEAXXw81X0mo3PM0jqKEI/l+k/X0afZ9yUXUqhMYdMmOCc3l7QUTkf+oWYj6YYV1ikrLosbv9n3oAopVKawdKnWCcQDfHbOplSN01rHEOKxxCyL0TqCpuQ6KmNLToYSJSApSesk4gFKqTLsSZpLWpy71lGEKBCdi46GVxviXNRZ6yiakBaVsa1ZI0XKQukuR1M77GutYwhRYEq6wvUfr2sdQzNSqIzthx+0TiAewnXPGkIb7dQ6hhAFdm3ZNa0jaEa6/owpIUHt9kuVOyJYMsXTk0MlFnLrXAmtowiRfzqoH1Uft3JuWicxO2lRGdPq1VKkrIAuKYknXCfh4JypdRQh8k+Ba9/bZ6tKCpUxSbef1XA8cYDwBiu1jiFEgdjr6D8pVMZy+7Z6/ZSwGt4751O29gmtYwiRb0lHkkg5l6J1DLOTQmUsGzdChkx0Zk10ikL56HG4F0vUOooQ+Ra7IVbrCGYnhcpYNmzQOoF4DLqYq9QqP0vrGELkmxQq8fg2btQ6gXhMLv9spmrjP7SOIUS+3N5yG32Gfd37TwqVMRw8CFeuaJ1CFELxf6bhX0m+h8LyZSVmEfdnnNYxzEoKlTFIt5/V06WmUlWZgKOrnGcUls/euv+kUBmDFCqb4HD6OLXqLdM6hhCPFLteCpUoiMRE+OsvrVMII/HauYTguoe1jiHEQyUdTiLtcprWMcxGClVhbdkiw9JtTNDZ8XiWiNc6hhAPZU/df1KoCuvPP7VOIIxMd/MG4WU+B+Q2mMJyxW6SQiXya/durRMIE3Det53qTeSSA2G54vfYT6tfClVhZGTAv/9qnUKYiN/uzylR5aLWMYTIVdr5NNKvp2sdwyykUBXGgQNyt3QbpsvIoErqBJw87OektbAuCf8kaB3BLKRQFcaePVonECbmEHWK2rUXax1DiFzF77WP7j8pVIUh56fsgsefK6hQf5/WMYTIQVpU4tGkUNmNMscn4F3qltYxhMhGCpV4uGvXICpK6xTCTHRxt6npPxV09nUzUGHZMq5nkBJl+/NTSaF6XIcOaZ1AmJnTod3UbLJG6xhCZJOw1/ZbVVKoHtexY1onEBrw/etLSj4RpXUMIQzsoftPCtXjkkJll3SZmVSKG4eLt1yWICxDwn9SqERepFDZLYeLUdSqPk/rGEIAkHJKzlGJvEihsmvuu1ZRuaFcRye0l3YpjazULK1jmJQUqsdx7RrE2s8NIUXuSh7+FJ9yN7SOIeydAqlnbbsrWgrV45DWlAB0CQnU8P4MnaNtv5sVli/ljG13/0mhehzHj2udQFgIx6P/Ed5oldYxhJ2TQiVyOntW6wTCghTZOYcyNU9rHUPYsZTTUqjEgy5d0jqBsCA6vZ4KMWNx803WOoqwU6ln5ByVeJAUKvEA3ZVL1Ar9WusYwk5Ji0rkFB2tdQJhgVz/XkuVRju0jiHsUOr5VJQsResYJiOF6nFcvqx1AmGhAvZNxi8kRusYws4oGQpp0bY7wadRC1VwcDAzZ8405iazadq0KYMHDzbZ9vPlxg1Is90fCFE4uuRkqrlMxME5U+sows5k3MjQOoLJOGkdoCBWrVqFs7OztiHk/JR4BMfIQ9Rq8gP/7eiqdRRhRzJu2W6hsqquPz8/P7y9vbUNIeenRD547VxAuSflejthPpmxttuKL1Chatq0KQMGDGDAgAH4+vpSrFgxRo8ejaLcO4mXnJxMz5498fb2ply5csydO9fwWPPmzRkwYEC2bd68eRNXV1e2bNkCwNdff02lSpVwc3MjICCAV155Jdv+7+/6S0tLY/jw4ZQtWxZXV1cqVarEggULALh16xZdu3alePHiuLu7U6lSJRYtWlSQw83dtWuF34aweTpFIeTCODz8E7WOIuxERqy0qAyWLFmCk5MTf//9N7NmzWLGjBnMnz/f8Pj06dOpU6cO+/fvp1+/fvTt25cTJ04A0KtXL77//nvS7jvHs2zZMkqVKkWzZs34999/GTRoEOPHjycyMpINGzbQpEmTPLN0796dFStWMGvWLI4fP86cOXPw8vIC4KOPPuLYsWOsX7+e48ePM3v2bPz9/Qt6uDnFxRV+G8Iu6K5fIzz4C61jCDuReUtaVAZly5ZlxowZhIaG0rVrVwYOHMiMGTMMjz/33HP069ePihUr8sEHH+Dv78+2bdsAePnll9HpdPzyyy+G9RctWkRERAQ6nY4LFy7g6elJ+/btCQoKolatWgwaNCjXHCdPnmTlypUsXLiQl156ifLly9OiRQs6deoEwIULF6hVqxZ16tQhODiYli1b0qFDh4Iebk4WWqgmAXUBb6AE8CIQ+cA6V4FuQCDgCdQGfsrHti8BbwDFAA8gHPjvvsenAQF3PmY88Ny/gScBe70bnsu/v1O1yR9axxB2QLr+7lO/fn10Op3h6wYNGnDq1CmystQ/RTVq1DA8ptPpCAwMJCZGHa7r6urKG2+8wcKFCwE4cOAABw8eJCIiAoBWrVoRFBRE+fLl6datG8uWLSM5Ofer/Q8cOICjoyPPPPNMro/37duXFStWEB4ezvDhw9m1a1dBDzV3FlqotgP9gT3AZiATaA0k3bdON9Ti9StwGOgIdAL2P2S7t4CnAWdgPXAMmA743nn8MDAGWA58D4wCjtx5LAPoA8wBHAtzcFau+N9T8a90ResYwsbJYIoCeHBUnk6nQ6/XG77u1asXmzdvJjo6moULF9KiRQuCgoIA8Pb2Zt++fSxfvpySJUsyZswYatasye3bt3Psx93d/aE52rZty/nz5xk8eDCXL1+mRYsWDBs2rPAHGB9f+G2YwAYgAqgG1AQWARfI3vLZDQwE6gHlgdGoBWffQ7Y7GSh7Z3v1gGCgBVDhzuPHgRpA8zvLa9xZBjAVaILa0rNnurQ0qioTcHKz3T8kQnvSorrPnj17cnxdqVIlHB3z9565evXq1KlTh3nz5vH999/Ts2fPbI87OTnRsmVLpkyZwqFDh4iKijIMtHhwO3q9nu3bt+e5r+LFixMREcF3333HzJkzsw3seGxJSY9exwLcbff53besEfADEAvogRVAGtD0Idv5FagDvIrapVgLuH9u2+rASdSieP7O508Ap4HFwCeFOgrb4XD6OOF1v9M6hrBhtjyYosDXUV28eJGhQ4fSu3dv9u3bx5dffsn06dMLtI1evXoxYMAAPDw8eOmllwzL16xZw9mzZ2nSpAlFixZl3bp16PV6QkNDc2wjODiYHj160LNnT2bNmkXNmjU5f/48MTExvPbaa4wZM4Ynn3ySatWqkZaWxpo1awgLCyvo4eZkBYVKAYaiFqYn7lv+A2pXXzHUb7wH8H/cax3l5iww+872RgF7gUGAK9AdCAM+BVrdWX/SnWUtgSnARmAsatfhF6gtLHvltXMpwfWeJGpvjUevLEQBZd623RZVgQtV9+7dSUlJoV69ejg6OjJw4EDeeeedAm2jc+fODB48mC5duuDm5mZY7uvry6pVqxg7diypqalUqlSJ5cuXU61atVy3M3v2bEaNGkW/fv24efMm5cqVY9SoUQC4uLgwcuRIoqKicHd3p3HjxqxYsaKgh5tTHufMLMkA4BDw5wPLR6Oec/od8AdWo7aUdqK2jHKjR21RfXrn61rAUdTi1f3Osj53Pu5ajDqoowEQCvwDRAOvA+dQi5y9Cjo9nusBC0i65qN1FGFjlHTbvdefTrn/IqhHaNq0KeHh4YW+TdLFixcJDg7mn3/+oXbt2oXaltk9/TQYa2CGCQxELUA7gJD7lp8BKqIOdLi/7Le8s3xOHtsLQm0tzb9v2WzULr3c7tFxA/Vc1g7Uc1+foLbCAIoDW8i7KNqLjFpN+OvAx6BY1fX2wsK5V3bnqcintI5hEmb9TcnIyODChQt88MEH1K9f3/qKFED+67pZKagtqVWoxSDkgcfvtgMf/IY7oraa8vI0OYe5n0QtYLkZDAwByqAOSb+/1zwT+x2mfj/n/Tuo3mSD1jGEjZG7pxvJX3/9RVBQEP/99x9z5uT1Ht7COVjmu+D+wHeoQ8S9Ua+ZugrcnaWmCmrLqTdqC+cM6jDzzajXXN3VAvjqvq+HoA55/xR1gMT3wNw7+3vQZuDUfY/VA06gDmufi1oUc55ttE9+u2YSEHZR6xjCljzsHaeVK1DXnwAaN4Y/Hzz7oz1dHssXoQ5bB7WIjEA9d5WIWriGoV5fdVfwnfXH3rdsDTDyzvNDUAdWvP3AflJQLwT+4c7/d81HPTfmCnwNtMvn8diDzKpVWNRiIak6F62jCBvg6eVEz4k1tY5hElKoCuqZZ2CHTI4nCkfRwfG1DVgW2JlP4+z9rJ0whiBXV6IaNNA6hklYZj+WJbPQrj9hXc4ua0KM+25axA2hrkde7WEh8s9BZ7s/R/JXt6Bs+IdBmEf0jCZcLKm2yh3IYqh+Ai7ycyUKydGGf4akUBWUtKhEIVx/7ylOh2c/xxmY+gd9ipzTKJGwFbZ8P035q1tQUqjEY4p7/QmOdzhIbsOzOsT1J8zdlv/UCFNztuG/TbZ7ZKbi6al1AmGFkhsFc7jfZfRKaq6PO5HMB7ov5RdSPDaffN5v1RrJ70VB+fo+eh0h7pNe2Z9Dk7LIzIp96HpByT8S4XPdTKmErfF1KvAd8ayGFKqCkkIlCiDLz4PD84qTmpm/i3tfi+9DkKvt/sERpiOFStwjhUrkk+LswNGVVUnQH3/0yne4KrGMcF5qwlTCVhV9YC5AWyKFqqCkUIl8Ovnj08Q6/lvg51VJnMdrRRJNkEjYMmlRiXukUIl8iJr/DFd8dj728yOS+hLgbLsnx4XxSaES90ihEo9wdfzTRFXIe+bp/HDPima4+zojJRL2QAqVuEcKlXiI2LdrE9lk76NXzIfa8Z/R1jvdKNsStk8KlbgnMFDrBMJCJbatzNE3TqEoGY9eOZ96pw6x6etjhPH4SaESBmXLap1AWKDU8FIcGhlPlj7BqNv1yTjGe16WO6O0sBxlXV21jmAyUqgKysMD/P21TiEsSEapIhya5U561lWTbL9R3Egae8lsPCJvDkA5NzetY5iMFKrHEZTXROzC3ui9XDiyLITkrDMm24cOhUHpo3C34Xu5icIp5eqKiw3/fNjukZlSuXJaJxAWQNHB8R+fJI6DJt+Xf/oeBnkfNfl+hHUKtuHWFEihejzSohLAme+bcN1tt9n21yruXWp5yK+syEkKlchJWlR2L3pmE6IDd5h1n45k8J7+M5xseII88XikUImcpEVl166//xSna/756BVNoHTqenoXyd8NboX9kEIlcqpQQesEQiNxrz/B8Xa5T35oLi/E9aWym1xbJe4JkUIlcqhSBWz44jqRu+QmIQ+d/NBcnEnkA8c5SAeguEsKlcjJ1RUqVdI6hTCj9Mr+HJqY+cjJD82lfNL3dPexjCxCW96OjtL1J/JQvbrWCYSZZPl5cKgAkx+aS+eEvpRxkZa9vavh6YnOxgfYSKF6XFKo7MLdyQ8TCzD5obm46mMY4bJC6xhCY+FeXlpHMDkpVI9LCpVdeNzJD82lWuL/6FgkWesYQkO1vL21jmByUqgelxQqm1fYyQ/NpWfyAPydZBSgvZIWlchbSAjYwQ+IvTLG5Ifm4pl5jvc9NmsdQ2jASafjCU9PrWOYnBSqx6XTQY0aWqcQJhDb23iTH5pLvfgJtPTO0jqGMLMwDw9cbfhmtHfZ/hGaUsOGWicQRpbwXGWOdjHu5Ifm0j/tPbwd5VfantSyk14d+akujEaNtE4gjCg1vBSHR8QZffJDc/FNP8gQL8sd+CGMTwqVeLSnn1a7AIXVyyjjc2fyw2taRymUpnHDqG/7pyzEHY19fbWOYBZSqArD3x9CQ7VOIQpJ7+XCkW+DTTr5obnoUBiS+TGu8gbK5vk6OUmLSuSTdP9ZNXNOfmguJdJ2MKDISa1jCBN7xscHBzt5QyKFqrCkUFm1M8vNO/mhubSNG0B1d7m2ypY1K1pU6whmI4WqsKRQWa3oL5oQHWDeyQ/NxZF03mcaUqpsVzM7OT8FUqgKr0IFKF1a6xSigK4Pr8/pGtpMfmguZVN+pZfPFa1jwMGDMGoUvPIKNGsGfz7wun/2mbr8/o9+/R6+zcxMWLIEunaF1q3hrbdg7wPXvm3eDK+9Bs8/D3PmZH/s6lXo1g2Skgp/fBrwd3amuh1c6HuXFCpjaNtW6wSiAOI6V+f4cwfQcvJDc3k5vi8VXDW+w3pqqvqGbtCgvNepVw9+/vnex2efPXybCxbAmjUwcCAsXqwWo48+glOn1Mfj4mDaNOjTB6ZMgY0bYfd9XbwzZsDbb4OV/rFv6utr83dMv58UKmNo317rBCKfkpuEcLjvJc0nPzQXZyWOEU7ztZ1k8amn1BZPkyZ5r+PsDH5+9z6KFHn4Njdvhi5doH59KFUKXngB6taFlSvVxy9fVotQ8+bqRKfh4XD+vPrY77+rE58+LI+Fs6duP5BCZRwtW6qTKQqLZmmTH5pLxaQldPGJ0zrGwx04AC+9pHbHTZsGt249fP2MDHBxyb7M1RUOH1Y/L1MG0tLUFlZ8PERGQvny6ueLFsG775rmOMykuRQqUWCentC0qdYpxENY6uSH5tI1oS+lnC10aEW9evDhh/D559C3L5w4AUOHQnp63s+pUwd+/BGio0Gvh3//hb/+gtg7b0K8vWHECJg0Sd1m69bqfmbPVgvilStq19+bb8J267j58F2h7u5UsdIuy8cl04MaS7t2aj+4sDh6F8c7kx/a7+2F3PVX+MDz/3g343mto+TUvPm9z0NC1IvoX38d9uzJu3tu4EC15dWjh/p16dLw7LOwYcO9dRo3Vj/uOnAAzp1TW1NvvAGjR6vdjP36qTeYtpLh3i8VL651BLOTFpWxtGundQKRh1MrG1r05IfmUiNhBs8XsYJzc8WKQUAAXLqU9zq+vvDJJ7B+PaxYoY4AdHeHwMDc109Ph5kz1ZbapUuQlaWetypXTu0mPG55Mzjn5WV/f60jmJ0UKmMpXx7CwrROIR4QtcA6Jj80l17J7+Jn6ZMsxsVBTIza2nkUFxcoXlwtPDt2qPffzM2336pdf5Urq12FWfdNiZKZqS6zAuVcXanzqIEmNki6/ozp+eet6p2Zrbsy4WmiylvX+QdT8848ybAi2xgV3/jRKxtLSkr21tGVK3D6tHoeqUgRdXh5kyZqS+rqVZg/H3x8snfbffqpWpDeflv9+tgxuHEDKlZU/1+8GBQFOnfOuf9z52DrVpg3T/26XDn1ZtJr16rF8MIFq7lnZ0c77PYDKVTG1bkzTJ6sdQqBOvnhycZ/g6J1EsvTIH4Mzbz+YGuimTpUIiNhyJB7X3/9tfp/mzbq8rNnYdMmSExUi1V4OIwZAx4e954TEwP3TxCYng4LF6rD0N3d1SHwo0blnHVbUWD6dOjfX10P1NGBI0bAF1+o23n3XbUIWoGOdtjtB6BTFEV+lY2penU4ckTrFHYtoX0oB96/bLXzSpnDLZcn6Zb5OUlW0uUlIMDZmcsNG9rNjWjvJ+eojK1rV60T2LXU2qU5PPy2FKlHKJr+H4O9D2gdQxTAi/7+dlmkQAqV8XXpIpMpaiSjjA+HZrpa/eSH5tI8bih1PeRn1Vq8VqKE1hE0I4XK2MqVkzuqa0Cd/DCI5KyzWkexGg5kMVQ/ARd5Y2Xxyru52d1tk+4nhcoU3nhD6wR25d7kh4e0jmJ1AlP/oG8RKe6WrmfJknZ1E9oHyWAKU7h1S73w8GG3gBFGc3qF7c4rZQ6ZeDDIfQPHU7IevbIwO0fgQoMGlLLj+4lKi8oUihaFDh20TmEXbHnyQ3NxIpkPdLPkj4GFeq5YMbsuUiCFynT69tU6gc2zh8kPzSUo+Sfe9InROobIRa+SJbWOoDkpVKbSvLl6uxZhEvY0+aG5vBrflyCtJ1kU2ZRycaFdsWJax9CcFCpT0enU2UWF0amTH0bbzeSH5uKqxDLCeanWMcR9IgIDcbTjQRR3yWAKU7p9W70zc1KS1klsRnplf/YtcCM1M1rrKDZrdpFfWRnvrXUMu6cDTj/1FOXv3vrJjkmLypR8fdUZS4VRZPp73pn8UIqUKUUk9SPAUidZtCMdihWTInWHFCpTGzRI7lRhBHoXR46tCCNRL3enNzX3rGiGu6/VOobd+6BcOa0jWAwpVKYWFgatWmmdwuqd/LGBTH5oRrXjJ9PWW64D1EojHx8a+vhoHcNiSKEyh+HDtU5g1aIWPsPVIjIM3dx6pw7Bx1G6ALXwQdmyWkewKFKozKFFC2jYUOsUVunKJ42ICpHJD7Xgk3GM97z+0jqG3XnC01OGpD9ACpW5fPSR1gmsTmyfJznZaI/WMexa47iRNPaSgcHmNLxsWbu+r19upFCZy7PPQt26WqewGgntQznaORJFydQ6it0blD4Kdwf5U2EO5Vxd6WzH03nkRX76zElaVflyb/LDRK2jCMA/fQ+DvI9qHcMuDC1bFid5U5CDXPBrbrVqwQGZWTUvGWV82P99MZlXysJk4cz7Hr+zP1luWWUqJZydOVe/Ph4ygCUHKd3mNnq01gkslkx+aLkcyeA9/Wc4ybkTkxkdFCRFKg9SqMytY0eoWVPrFBZHnfywtkx+aMFKp66nd5ELWsewSSFubvQuVUrrGBZLCpW56XQwbZrWKSzOmeVNuO4mI/ws3Qtx/ajsJu/6jW1ccDAucm4qT/LKaKFlS3juOa1TWIyLs2TyQ2vhTCIfOM5BOgCNp4anJ10DArSOYdGkUGll2jRwkrl/Yj6oz5nqctcJa1I+6Xu6+8RqHcNmTKtQAQcLP/cXERHBiy++aPi6adOmDB48OF/PLci6eZFCpZWwMHj7ba1TaOp2l+qcaCuTH1qjzgl9KeMib7QKq62fH638/LSOUWCrVq1iwoQJZtufFCotjRsHdnrjyaRnQjjSRyY/tFau+hhGuKzQOoZVc0RtTVkjPz8/vL3NN2eZFCotFS8Oo0ZpncLs0kKLc/iTDDKzbmkdRRRCtcT/8XKRZK1jWK13SpWiqqdnobejKApTpkyhfPnyuLu7U7NmTX766ScAtm3bhk6n448//qBOnTp4eHjQsGFDIiMjs23jk08+oUSJEnh7e9OrVy9GjBhBeHh4nvt8sDvv66+/plKlSri5uREQEMArr7ySbX29Xs/w4cPx8/MjMDCQsWPHFugYpVBp7d13oXx5rVOYTaa/J4fnFpPJD23Em8kD8HeSUYAFVdLFhUlG+r0fPXo0ixYtYvbs2Rw9epQhQ4bwxhtvsH37vZs5f/jhh0yfPp1///0XJycnevbsaXhs2bJlTJw4kcmTJ/Pff/9Rrlw5Zs+ene/9//vvvwwaNIjx48cTGRnJhg0baNKkSbZ1lixZgqenJ3///TdTpkxh/PjxbN68Od/7kDtTWIJNm6BNG61TmJzexZEj62rJvFI2Zm+R0XwQ30LrGFZlZdWqvGqEe/olJSXh7+/Pli1baNCggWF5r169SE5O5p133qFZs2b8/vvvtGihfo/WrVtHu3btSElJwc3Njfr161OnTh2++uorw/MbNWpEYmIiB+7cRSciIoLbt2+zevVqQG1RhYeHM3PmTFatWsWbb75JdHR0rt2BTZs2JSsri507dxqW1atXj+bNm/PZZ5/l6zilRWUJWreGN97QOoXJybL/GH4AABaqSURBVOSHtqle/Ce08pabB+dXOz8/oxQpgGPHjpGamkqrVq3w8vIyfCxdupQzZ84Y1qtRo4bh85IlSwIQExMDQGRkJPXq1cu23Qe/fphWrVoRFBRE+fLl6datG8uWLSM5OXuX8P37v5vh7v7zQwqVpZgxA/z9tU5hMjL5oW3rlzYMb0f5c/Iong4O/K9yZaNtT69XR8yuXbuWAwcOGD6OHTtmOE8F4OzsbPj87hQid597/7K7CtLR5u3tzb59+1i+fDklS5ZkzJgx1KxZk9u3b+e6/7v7u3//jyI/WZbC3x8+/1zrFCYhkx/aPt/0gwzx+kfrGBZvXEgIQW5uRtte1apVcXV15cKFC1SsWDHbR9l8zhIcGhrK3r17sy3799+C9Xw4OTnRsmVLpkyZwqFDh4iKimLLli0F2sZDt2+0LYnC69YNvvtOPWdlIwyTH8qZUJvXNO59NntuYXeS1kksUy0vLwaXKWPUbXp7ezNs2DCGDBmCXq+nUaNGxMfHs2vXLry8vAgKCnrkNgYOHMjbb79NnTp1aNiwIT/88AOHDh2ifD4He6xZs4azZ8/SpEkTihYtyrp169Dr9YSGhhb28AykUFmaOXPgiScg2fqH/RomP9TL+Qt7oENhcObH7NONJ03GaGXjCMytXBlHE9yBYsKECZQoUYJJkyZx9uxZfH19qV27NqNGjcpX91rXrl05e/Ysw4YNIzU1lddee42IiIgcray8+Pr6smrVKsaOHUtqaiqVKlVi+fLlVKtWrbCHZiCj/izRjBkwdKjWKQoltXZp9s3MID0r/ydMhW1Y4zOX6XGVtI5hUd4vW5YpVnRxb6tWrQgMDOTbb7/VOgoghcoyKQq0agV//KF1ksdizZMfLlsGO3fChQvg6grVqsE770C5cvfWSU9XG75//KF+Xrs2DB6sXr/9MOfPw9y5cPAg6PUQHAwffwx370f6v//Bxo3g7g69e0Pz5veeu3UrbN4Mn35q9EM2uixcGOr+O4dSsrSOYhGe9PJid+3aOFvo3dGTk5OZM2cObdq0wdHRkeXLlxuuc2rZsqXW8QApVJbr8mV13qobN7ROUiB6LxcO/lbFaueVGj5cLRChoZCVBQsWwLlzsGiRWkBAbfDu2gUjRkCRIjB7NsTHwzffQF7z3l26BP36Qdu20KIFeHqqhatKFShaVN3etGkwaRJER8OUKbBypXqHrcRE6NMHpk+/V9Qs3UX353kzZQj2Xqo8HRzYX6cOlTw8tI6Sp5SUFDp06MC+fftIS0sjNDSU0aNH07FjR62jGUihsmS//govvKB1inxTdHBsfX2uu9rOvFK3b8NLL8HMmer7hsRE9euRI++1eG7cgE6d1CKT1+Un48erN8vP645Zy5fDqVMwZoz6dceOauupShW1gAUFwauvGv/4TGmFz/d8E1dS6xiaWhAaSs+S9v0aGINltkWF6vnnoW9frVPk25kVTWyqSAEk3RnBVqSI+v/Jk5CZCXXr3lvH31/txjt6NPdt6PWwZw+UKQPvv68Wur594c/7LiurUAEiIyEhQf0/LQ1Kl4bDh9UCZkFvbvPt5fi+VHC13/FarxUvLkXKSKRQWbrp09UTJRbu4qwmRJewrckPFQW+/hqqV4eQEHVZbCw4O8ODd4rx81Mfy83t25CSoraa6tWDqVOhcWO19XTnDjXUq6eeluzTByZPVrsV3dzujav59Vfo3h0GDFC7Iq2BsxLHCKf5djnJYjlXV74x4oW99s5+3+5YC3f3e3/hUi1zSoyYEfU5U33no1e0Ml98AWfOwJdfPnpdRYG8Rh7fHSHcsOG97ruKFdUW2G+/wd2bVEdEqB93LV4MTz6pdhl++y0sXAi7d6tdjHPnPuZBmVnFpCV08XmRZXG+WkcxG0dgWVgYvg/cjUE8PmlRWYPq1dW31hbodpfqHH92P7Z2Re+sWf/f3v1HRVnveQB/z29mGGD4KaQ4KMYFFUhgazPjhHZLq7uZp41qyYseMi3Lm93Ec+/VY/fmZtlea0/35F1Kybt5N/thtdZtNV2TQ7qpG9YSApoi6ig/bPgNMzDf/ePJSQQVnR/PMzPv1zlzGJ5hnucDh8Ob7/N8n+9HmuCwbt3g2XwxMYDTKZ2iu9APP0iTIoYTFSVNskhJGbx97Fjg7Nnh33PiBPD558D8+dKoKysLsFiA226TTgV2BdBNtf/U8Tiu04XOCuu/s1oxzRI6wewPDKpAsXAhUFIidxWDnG9+KESf3KV4jRDSSKqiQlrR6uJLDGlp0gjnwhVmWluB48cvfYZWp5MmRTQ2Dt5+8uTws/iEkM74LlokDahdLmkGIvDTx0CaAmV02VAatlXuMvzinthYrLz4PxLyGIMqkPzpT9L5IwUI1uaHr7wi3a/0298CJpN03encOWlyAwCYzcBdd0lT0g8elEY3q1dL17Byc3/az9y5UtidV1go3Qu1bZs0VX3rVmnENnv20Bq2bZNGT7fcIn0+eTLw9dfAd98B774rzQA0m333M/CFrI51+IdIZZ669pYMkwlvZ2RA7YPVJ0Idp6cHmjNnpL+Ip0/LVkJ/XDiq3k9Gp+uwbDX4SkHB8NtLS4GZM6XnF97w29f30w2/F3ZuKCgY/B4A+PRTYPNmoLkZSE6WrkdNmzb4OOfOSfdbvfba4MX033oL+OADKcCWLwcyMrzy7fpVp3YCfokNONcffHdXRWu1+ConBxMUfL9UIGNQBaKvvgLy83/6N9+P2PyQPLE38vf4TfutcpfhVRoAf8vKws9jYuQuJWjx1F8guvFG6V96GbD5IXni5vaVKDCPvA9RIHg5NZUh5WMMqkBVXAwsWeLXQx7byOaH5LnFjmcRrtB1767WvMRE/GqEfZ/o2gXHb0uo+uMf/bZkgW31NDSksPkheS7G8b/4VUSV3GV47ObISKznTb1+waAKZGq1dHU+P9+nh2ldlIu6W4JraSSS1/S2pfg7U+DOjptoMuE/MzOhD5KRodLxpxzoDAZpfZ2sLJ/svuMX6fjuwVoIweaH5D1qDGCp6/fQB+BUbqvBgO3Z2YjlyhN+w6AKBlFRwGefDV36wEM9uaPx7bPnMODq9Op+iQAgsXcXFkUGVs+yBJ0OO7KzMdpgkLuUkMKgChZJSVLXvQtvvvGAc6wF364zsEMv+dQ9bYsx0RgYyytFaTT4r6wsRfeWClYMqmCSlgZ88onUlc8DAxEGfLspOSA79FJg0aIby1T/qvg/REa1GtsyM3HDxcvmk18o/feDrtaNN0pLIFxjWAmNCoffnYJ28a2XCyManrX7PcyLUu7IXadS4b1Jk7jQrIwYVMEoP1+6ZnUNC8Id3Xxr0DU/JOX7x/ZFSFFgk0UNgLfS03FXbKzcpYQ0BlWwmjZNumZ1FacqgrH5IQUGgziHUt0mucsYRKdS4T8mTsRDwy1xT37FoApmU6dKYXW+j/plBGvzQwoc6Z1leCCy48pf6AdhajU+nDwZ91+40jDJhkEV7G6+Gdi+XZrCfgn2oqygbH5Igae463GMkrnJolmjwd8yM3m6T0EYVKHgppukdrHDtKDtKhiP/1twIqiaH1LgMg6cRKnxE9mOb9FqsSMrC7ddql0zyYJBFSry8qROfmPGuDf1ZSTgm9/3oX/ALmNhRINNaX8RsyIcfj9uvE6H/87Oxt9f5uwDyYP9qELNyZPAzJnoP3s8aJsfUuBr12Xgl64/wz7gnyaLo/V6fJ6djXQP70Ek3+CIKtSMGQNUVODE+3MYUqRYkc4aPGOu9MuxppjN2JeTw5BSMI6oQpTL5cDhw/PR1PS23KUQXdJK8y5UdPpu4dr74uLwl4wMhGsCYxmnUMURVYhSq/WYOPHfYbWulLsUokt6yvEbGH3USmP52LF4f9IkhlQAYFCFuHHjnkN6+iaoVHq5SyEaIs6xD0siqr26T71KhfL0dLwwfjxUAdhmJBTx1B8BAOz2PaiufgBO51m5SyEaZAA6PGv6HF93uzzeV5xOh61cty/gcERFAACLJR95eVWwWKbLXQrRIBo48WvxAnQejn4mmUz4KieHIRWAGFTkZjAkIjt7B1JSngN/NUhJruv5DI9Fnrjm989LTMT/5OZinNHoxarIX3jqj4b1ww+7UVPzMBwOm9ylEAEAnDBjcdinqOsd+b1VZo0Gr19/PYoSE31YGfka/22mYUVH34a8vCpER98hdylEAAAdOlGqfh0jPQF4g9mMg7m5DKkgwKCiS9LrE5CV9RnGjXseUmceInmN7/4r5ka1XvHrFo8ejX05OUhj2/igwFN/NCJ2+x58993DcDhOyV0Khbg+dQIe1b6PRkf/kNeitVps+NnPMDs+XobKyFc4oqIROT8rMDb2HrlLoRBncDVhuf6vQ7ZPt1hQlZfHkApCHFHRVWtq2oIjR5bA4TgjdykUwl6L/ATvt5sQodFgbWoqFiQl8QbeIMWgomvidNrx/ffLYbP9G9hwkeTQpR2Htywf4OUJ6RgbFiZ3OeRDDCrySFtbJWprH0N3t3eXuSG6HJ0uHqmp/4LExEfkLoX8gEFFHnO5nGhsXIuGhj/A5eqVuxwKaiokJs5Daupa6HQxchdDfsKgIq/p7j6CurqFsNt3yl0KBSGTKR1paX+GxZIvdynkZwwq8rozZ/6Co0efgdPZLHcpFAR0ujhYrb/DddctglrNVf5DEYOKfMLptKOx8WWcOvUqBgY65S6HApBaHY7k5KVITv41tNpIucshGTGoyKccjmacOPECTp9+ndevaERUKh2SkhYgJWUF9PpRcpdDCsCgIr/o7T2JhoY/4MyZDRBi6IoCRIAKCQmFGDfueRiNqXIXQwrCoCK/6uk5iuPHV+Hs2c0APG+ER8EhOvoOjB//AiIicuQuhRSIQUWy6OqqxrFjK9HS8oHcpZCMIiJuwvjx/4zoaDbspEtjUJGsOjoOoqFhNVpaPgYw8j5DFLhUKi3i4uZgzJgliIqaKnc5FAAYVKQIvb0ncPr067DZ3oDT2SJ3OeQDWm0MkpIexejRTyAsLFnuciiAMKhIUVyuPjQ1vYNTp15DR8d+ucshLzCZJmLMmKcwatQj0GjYH4quHoOKFKu9/SucOvUampq2QIg+ucuhq6JCTMwsjBmzBDEx7BJNnmFQkeI5HM2w2cpw+vR69PU1yl0OXYZen4j4+EKMHv04TKY0ucuhIMGgooAhxADOnduO5ub30NLyIfr7z8ldEgHQamMRHz8HCQkPwmK5DSoV+7GSdzGoKCC5XP2w23ehufldtLR8yAkYfqbRRCIubjYSEh5EdPTPoVZr5S6JghiDigKeFFq7fxxpbYXT2SR3SUFJrTYhNvYXSEh4ELGxs6BWG+QuiUIEg4qCihADsNv3uEPL4bDJXVJACwtLgcUyHTExdyA29h5oNOFyl0QhiEFFQa27uxZ2+x60te2B3b4HfX0n5C5J0QyGMbBYCtwPozFF7pKIGFQUWnp7GwYFV09PndwlyUqvTxwUTCbTBLlLIhqCQUUhzeE4C7u9Am1te9DRsR9dXTUYGGiTuyyf0OlGITx8MsLDJyE8PBNRUbcgPDxD7rKIrohBRXSRvj4bursP//iocT8PlHu4tNroH8NoMsLDJ8Nkkp7r9XFyl0Z0TRhURCPU39+Jnp5adHcfRldXDfr6GuBwNMHhOAun8yyczhaf99rSaqOh0yVArx8FvT4BOt35jwkwGscjPHwyDIbrfFoDkb8xqIi8RAgBp7MV/f2t6O+3X/BoQ3+//ccOx+ofb4hVQ6VSDfocUF3wmhoaTbg7iPT6UdDp4qFW6+X8FolkwaAiIiJF41onRESkaAwqIiJSNAYVEREpGoOKiIgUjUFFRESKxqAiIiJFY1CRzxw/fhwqlQpVVVV+P3Z5eTksFovfj0tE3segoqBUWFiIurqRLTjLUCNSNrblpKBkNBphNBq9uk+HwwG9nitDEPkbR1TkMZfLhRdffBETJkyAwWDA2LFjsXr1avfr33//PQoKCmAymZCdnY29e/cOev+XX36J/Px8GI1GJCcn46mnnkJXV5f79ZSUFDz//POYO3cuzGYzrFYrPvroIzQ3N+Pee++F2WxGZmYmDhw44H7PxaOkQ4cOoaCgABEREYiMjERubi4OHDiA3bt3Y968eWhra4NKpYJKpcKqVasGHbe4uBhRUVF49NFHMX36dCxevHhQ/a2trTAYDNi1a5c3f6xEdJ4g8tCyZctEdHS0KC8vF0eOHBEVFRWirKxMHDt2TAAQ6enpYtu2baK2tlbcf//9wmq1CqfTKYQQ4ptvvhFms1msW7dO1NXVicrKSjFlyhRRXFzs3r/VahUxMTFi/fr1oq6uTixatEhERESImTNnii1btoja2loxe/ZskZGRIVwulxBCiI0bN4qoqCj3PiZNmiSKiopETU2NqKurE1u2bBFVVVWir69PvPLKKyIyMlLYbDZhs9lER0eH+7iRkZFi7dq1or6+XtTX14u3335bREdHi97eXve+X331VZGSkuI+NhF5F4OKPNLe3i4MBoMoKysb8tr5oHrjjTfc26qrqwUAUVNTI4QQ4pFHHhELFiwY9L6KigqhVqtFT0+PEEIKjKKiIvfrNptNABArVqxwb9u7d68AIGw2mxBiaFBFRESI8vLyYb+Hi7/2PKvVKmbPnj1oW29vr4iJiRHvvPOOe9sNN9wgVq1aNey+ichzPPVHHqmpqUFfXx9mzJhxya/JyspyP09KSgIANDU1AQAOHjyI8vJymM1m9+POO++Ey+XCsWPHht3HqFGjAACZmZlDtp3f78WWLl2KkpIS3H777VizZg2OHj06ou8vLy9v0OcGgwFFRUXYsGEDAKCqqgqHDh1CcXHxiPZHRFePQUUeGcmEBZ1O534utbaQrmud//jYY4+hqqrK/Th06BDq6+uRmpp62X1cbr8XW7VqFaqrq3H33Xdj165dmDhxIrZu3XrF2sPDw4dsKykpwY4dO3Dy5Els2LABM2bMgNVqveK+iOjaMKjII9dffz2MRiN27tx5Te/PyclBdXU1JkyYMOTh7Rl2aWlpePrpp7F9+3bMmTMHGzduBADo9XoMDAyMeD+ZmZnIy8tDWVkZNm/ejPnz53u1TiIajEFFHgkLC0NpaSmWLVuGTZs24ejRo9i3bx/efPPNEb2/tLQUe/fuxRNPPIGqqirU19fj448/xpNPPum1Gnt6erB48WLs3r0bDQ0NqKysxP79+5GRkQFAmt3X2dmJnTt3oqWlBd3d3VfcZ0lJCdasWYOBgQHcd999XquViIZiUJHHVqxYgWeeeQYrV65ERkYGCgsLL3mt6GJZWVn44osvUF9fj1tvvRVTpkzBihUr3NeyvEGj0aC1tRVz585FWloaHnjgAcyaNQvPPfccAGDq1KlYuHAhCgsLER8fj5deeumK+3zooYeg1Wrx8MMPIywszGu1EtFQ7PBLdA0aGxuRkpKC/fv3IycnR+5yiIIag4roKjidTthsNixfvtx9GpGIfIun/oiuQmVlJaxWKw4ePIj169fLXQ5RSOCIioiIFI0jKiIiUjQGFRERKRqDioiIFI1BRUREisagIiIiRWNQERGRojGoiIhI0RhURESkaAwqIiJSNAYVEREpGoOKiIgUjUFFRESKxqAiIiJFY1AREZGiMaiIiEjRGFRERKRoDCoiIlI0BhURESkag4qIiBSNQUVERIrGoCIiIkVjUBERkaIxqIiISNEYVEREpGgMKiIiUjQGFRERKRqDioiIFI1BRUREivb/k4E5zQaw/6UAAAAASUVORK5CYII='"
      ]
     },
     "execution_count": 13,
     "metadata": {},
     "output_type": "execute_result"
    }
   ],
   "source": [
    "data_url"
   ]
  },
  {
   "cell_type": "code",
   "execution_count": 14,
   "metadata": {},
   "outputs": [],
   "source": [
    "from openai import AzureOpenAI"
   ]
  },
  {
   "cell_type": "code",
   "execution_count": 15,
   "metadata": {},
   "outputs": [],
   "source": [
    "client = AzureOpenAI(\n",
    "    api_key=api_key,  \n",
    "    api_version=api_version,\n",
    "    base_url=f\"{api_base}openai/deployments/{deployment_name}\",\n",
    ")"
   ]
  },
  {
   "cell_type": "code",
   "execution_count": 16,
   "metadata": {},
   "outputs": [],
   "source": [
    "response = client.chat.completions.create(\n",
    "    model=deployment_name,\n",
    "    messages=[\n",
    "        { \"role\": \"user\", \"content\": [  \n",
    "            { \n",
    "                \"type\": \"text\", \n",
    "                \"text\": \"Please create Python code for image, and gen code to use plt to save the new picture under imgs/ and name it gpt-4-vision.jpg.\" \n",
    "            },\n",
    "            { \n",
    "                \"type\": \"image_url\",\n",
    "                \"image_url\": {\n",
    "                    \"url\": data_url\n",
    "                }\n",
    "            }\n",
    "        ] } \n",
    "    ],\n",
    "    max_tokens=2000 \n",
    ")"
   ]
  },
  {
   "cell_type": "code",
   "execution_count": 17,
   "metadata": {},
   "outputs": [],
   "source": [
    "result = response.choices[0].message.content"
   ]
  },
  {
   "cell_type": "code",
   "execution_count": 18,
   "metadata": {},
   "outputs": [
    {
     "data": {
      "text/plain": [
       "\"Sure, here is the Python code to generate the pie chart image and save it under `imgs/` with the name `gpt-4-vision.jpg`:\\n\\n```python\\nimport matplotlib.pyplot as plt\\n\\n# Data to plot\\nlabels = 'maths', 'english', 'chemistry', 'physics'\\nsizes = [215, 130, 245, 210]\\ncolors = ['magenta', 'cyan', 'yellow', 'red']\\nexplode = (0.1, 0, 0, 0)  # explode 1st slice\\n\\n# Plot\\nplt.pie(sizes, explode=explode, labels=labels, colors=colors, autopct='%1.1f%%', startangle=140)\\nplt.axis('equal')  # Equal aspect ratio ensures that pie is drawn as a circle.\\nplt.title('Marks obtained in an exam')\\n\\n# Save the figure\\nplt.savefig('imgs/gpt-4-vision.jpg')\\n\\n# Display the plot\\nplt.show()\\n```\\n\\nThis code will create a pie chart similar to the one provided and save it to the specified directory and filename. Make sure the `imgs/` directory exists or create it before running the code to avoid errors.\""
      ]
     },
     "execution_count": 18,
     "metadata": {},
     "output_type": "execute_result"
    }
   ],
   "source": [
    "result"
   ]
  },
  {
   "cell_type": "code",
   "execution_count": 19,
   "metadata": {},
   "outputs": [],
   "source": [
    "code = ''\n",
    "\n",
    "begin = result.index('```python') + 9\n",
    "\n",
    "code = result[begin:]"
   ]
  },
  {
   "cell_type": "code",
   "execution_count": 21,
   "metadata": {},
   "outputs": [],
   "source": [
    "end = code.index('\\n```')"
   ]
  },
  {
   "cell_type": "code",
   "execution_count": 23,
   "metadata": {},
   "outputs": [],
   "source": [
    "code = code[:end]"
   ]
  },
  {
   "cell_type": "code",
   "execution_count": 24,
   "metadata": {},
   "outputs": [
    {
     "data": {
      "text/plain": [
       "\"\\nimport matplotlib.pyplot as plt\\n\\n# Data to plot\\nlabels = 'maths', 'english', 'chemistry', 'physics'\\nsizes = [215, 130, 245, 210]\\ncolors = ['magenta', 'cyan', 'yellow', 'red']\\nexplode = (0.1, 0, 0, 0)  # explode 1st slice\\n\\n# Plot\\nplt.pie(sizes, explode=explode, labels=labels, colors=colors, autopct='%1.1f%%', startangle=140)\\nplt.axis('equal')  # Equal aspect ratio ensures that pie is drawn as a circle.\\nplt.title('Marks obtained in an exam')\\n\\n# Save the figure\\nplt.savefig('imgs/gpt-4-vision.jpg')\\n\\n# Display the plot\\nplt.show()\""
      ]
     },
     "execution_count": 24,
     "metadata": {},
     "output_type": "execute_result"
    }
   ],
   "source": [
    "code"
   ]
  },
  {
   "cell_type": "code",
   "execution_count": 25,
   "metadata": {},
   "outputs": [],
   "source": [
    "import subprocess"
   ]
  },
  {
   "cell_type": "code",
   "execution_count": 26,
   "metadata": {},
   "outputs": [],
   "source": [
    "result = subprocess.run([\"python\", \"-c\", code], capture_output = True)"
   ]
  },
  {
   "cell_type": "code",
   "execution_count": 27,
   "metadata": {},
   "outputs": [
    {
     "data": {
      "text/plain": [
       "CompletedProcess(args=['python', '-c', \"\\nimport matplotlib.pyplot as plt\\n\\n# Data to plot\\nlabels = 'maths', 'english', 'chemistry', 'physics'\\nsizes = [215, 130, 245, 210]\\ncolors = ['magenta', 'cyan', 'yellow', 'red']\\nexplode = (0.1, 0, 0, 0)  # explode 1st slice\\n\\n# Plot\\nplt.pie(sizes, explode=explode, labels=labels, colors=colors, autopct='%1.1f%%', startangle=140)\\nplt.axis('equal')  # Equal aspect ratio ensures that pie is drawn as a circle.\\nplt.title('Marks obtained in an exam')\\n\\n# Save the figure\\nplt.savefig('imgs/gpt-4-vision.jpg')\\n\\n# Display the plot\\nplt.show()\"], returncode=0, stdout=b'Figure(640x480)\\n', stderr=b'')"
      ]
     },
     "execution_count": 27,
     "metadata": {},
     "output_type": "execute_result"
    }
   ],
   "source": [
    "result"
   ]
  },
  {
   "cell_type": "code",
   "execution_count": 28,
   "metadata": {},
   "outputs": [],
   "source": [
    "from IPython.display import Image, display"
   ]
  },
  {
   "cell_type": "code",
   "execution_count": 29,
   "metadata": {},
   "outputs": [
    {
     "data": {
      "image/jpeg": "[encoded data removed]",
      "text/plain": [
       "<IPython.core.display.Image object>"
      ]
     },
     "metadata": {},
     "output_type": "display_data"
    }
   ],
   "source": [
    "display(Image(filename='./imgs/gpt-4-vision.jpg'))"
   ]
  }
 ],
 "metadata": {
  "kernelspec": {
   "display_name": "hfenv",
   "language": "python",
   "name": "python3"
  },
  "language_info": {
   "codemirror_mode": {
    "name": "ipython",
    "version": 3
   },
   "file_extension": ".py",
   "mimetype": "text/x-python",
   "name": "python",
   "nbconvert_exporter": "python",
   "pygments_lexer": "ipython3",
   "version": "3.12.4"
  }
 },
 "nbformat": 4,
 "nbformat_minor": 2
}
