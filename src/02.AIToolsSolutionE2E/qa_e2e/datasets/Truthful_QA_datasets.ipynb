{
 "cells": [
  {
   "cell_type": "code",
   "execution_count": null,
   "metadata": {},
   "outputs": [],
   "source": [
    "import csv\n",
    "import json"
   ]
  },
  {
   "cell_type": "code",
   "execution_count": null,
   "metadata": {},
   "outputs": [],
   "source": [
    "csvfile = open('./TruthfulQA.csv', 'r')\n",
    "jsonfile = open('./TruthfulQA.json', 'w')"
   ]
  },
  {
   "cell_type": "code",
   "execution_count": null,
   "metadata": {},
   "outputs": [],
   "source": [
    "fieldnames = (\"Type\",\"Category\",\"Question\",\"Best Answer\",\"Correct Answers\",\"Incorrect Answers\",\"Source\")"
   ]
  },
  {
   "cell_type": "code",
   "execution_count": null,
   "metadata": {},
   "outputs": [],
   "source": [
    "reader = csv.DictReader(csvfile, fieldnames)"
   ]
  },
  {
   "cell_type": "code",
   "execution_count": null,
   "metadata": {},
   "outputs": [],
   "source": [
    "i = 0\n",
    "for row in reader:\n",
    "    if i > 0:\n",
    "        # print(row)\n",
    "        try:\n",
    "            # print(row)\n",
    "            # json.loads(row)\n",
    "            json.dump(row, jsonfile, ensure_ascii=False)\n",
    "            jsonfile.write('\\n')\n",
    "            i += 1\n",
    "        except ValueError:\n",
    "            continue\n",
    "    if i == 0:\n",
    "        i += 1"
   ]
  },
  {
   "cell_type": "code",
   "execution_count": null,
   "metadata": {},
   "outputs": [],
   "source": [
    "# # i = 1\n",
    "data = []\n",
    "with open('./TruthfulQA.json', 'r',encoding=\"utf8\") as file:\n",
    "    for line in file:\n",
    "        try:\n",
    "            data.append(json.loads(line))\n",
    "        except ValueError:\n",
    "            continue\n",
    "        i+=1"
   ]
  },
  {
   "cell_type": "code",
   "execution_count": null,
   "metadata": {},
   "outputs": [],
   "source": [
    "import json\n",
    "\n",
    "with open('datasets.json', 'w',encoding=\"utf8\") as f:\n",
    "    for i in range(len(data)):\n",
    "        if i >0:\n",
    "            json.dump(data[i], f, ensure_ascii=False)\n",
    "            f.write('\\n')"
   ]
  }
 ],
 "metadata": {
  "kernelspec": {
   "display_name": "pydev",
   "language": "python",
   "name": "python3"
  },
  "language_info": {
   "codemirror_mode": {
    "name": "ipython",
    "version": 3
   },
   "file_extension": ".py",
   "mimetype": "text/x-python",
   "name": "python",
   "nbconvert_exporter": "python",
   "pygments_lexer": "ipython3",
   "version": "3.10.12"
  }
 },
 "nbformat": 4,
 "nbformat_minor": 2
}
